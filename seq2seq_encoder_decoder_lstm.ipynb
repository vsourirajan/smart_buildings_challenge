{
  "cells": [
    {
      "cell_type": "code",
      "execution_count": 1,
      "metadata": {
        "id": "T37YESFNCbTZ"
      },
      "outputs": [],
      "source": [
        "#@title Dataset Definition\n",
        "\n",
        "\"\"\"Smart Buildings Dataset implementation, including loading and downloading.\"\"\"\n",
        "\n",
        "\n",
        "import json\n",
        "import pickle\n",
        "import shutil\n",
        "import numpy as np\n",
        "import requests\n",
        "\n",
        "\n",
        "\n",
        "\n",
        "class SmartBuildingsDataset:\n",
        " \"\"\"Smart Buildings Dataset implementation, including loading and downloading.\"\"\"\n",
        "\n",
        "\n",
        " def __init__(self, download=True):\n",
        "   self.partitions = {\n",
        "       \"sb1\": [\n",
        "           \"2022_a\",\n",
        "           \"2022_b\",\n",
        "           \"2023_a\",\n",
        "           \"2023_b\",\n",
        "           \"2024_a\",\n",
        "       ],\n",
        "   }\n",
        "   if download:\n",
        "     self.download()\n",
        "\n",
        "\n",
        " def download(self):\n",
        "   \"\"\"Downloads the Smart Buildings Dataset from Google Cloud Storage.\"\"\"\n",
        "   print(\"Downloading data...\")\n",
        "\n",
        "\n",
        "   def download_file(url):\n",
        "     local_filename = url.split(\"/\")[-1]\n",
        "     with requests.get(url, stream=True) as r:\n",
        "       r.raise_for_status()\n",
        "       with open(local_filename, \"wb\") as f:\n",
        "         for chunk in r.iter_content(chunk_size=8192):\n",
        "           f.write(chunk)\n",
        "     return local_filename\n",
        "\n",
        "\n",
        "   url = \"https://storage.googleapis.com/gresearch/smart_buildings_dataset/tabular_data/sb1.zip\"\n",
        "   download_file(url)\n",
        "   shutil.unpack_archive(\"sb1.zip\", \"sb1/\")\n",
        "\n",
        "\n",
        " def get_floorplan(self, building):\n",
        "   \"\"\"Gets the floorplan and device layout map for a specific building.\n",
        "\n",
        "\n",
        "   Args:\n",
        "     building: The name of the building.\n",
        "\n",
        "\n",
        "   Returns:\n",
        "     A tuple containing the floorplan and device layout map.\n",
        "   \"\"\"\n",
        "   if building not in self.partitions.keys():\n",
        "     raise ValueError(\"invalid building\")\n",
        "   floorplan = np.load(f\"./{building}/tabular/floorplan.npy\")\n",
        "   #new device layout map\n",
        "   with open(f\"./{building}/tabular/double_uniform_device_layout_map_floor_1_2.json\") as json_file:\n",
        "     device_layout_map = json.load(json_file)\n",
        "   return floorplan, device_layout_map\n",
        "\n",
        "\n",
        " def get_building_data(self, building, partition):\n",
        "   \"\"\"Gets the data for a specific building and partition.\n",
        "\n",
        "\n",
        "   Args:\n",
        "     building: The name of the building.\n",
        "     partition: The name of the partition.\n",
        "\n",
        "\n",
        "   Returns:\n",
        "     A tuple containing the data and metadata.\n",
        "   \"\"\"\n",
        "   if building not in self.partitions.keys():\n",
        "     raise ValueError(\"invalid building\")\n",
        "   if partition not in self.partitions[building]:\n",
        "     raise ValueError(\"invalid partition\")\n",
        "   path = f\"./{building}/tabular/{building}/{partition}/\"\n",
        "\n",
        "\n",
        "   data = np.load(path + \"data.npy.npz\")\n",
        "   metadata = pickle.load(open(path + \"metadata.pickle\", \"rb\"))\n",
        "\n",
        "\n",
        "   if \"device_infos\" not in metadata.keys():\n",
        "     metadata[\"device_infos\"] = pickle.load(\n",
        "         open(f\"./{building}/tabular/device_info_dicts.pickle\", \"rb\")\n",
        "     )\n",
        "   if \"zone_infos\" not in metadata.keys():\n",
        "     metadata[\"zone_infos\"] = pickle.load(\n",
        "         open(f\"./{building}/tabular/zone_info_dicts.pickle\", \"rb\")\n",
        "     )\n",
        "   return data, metadata\n"
      ]
    },
    {
      "cell_type": "code",
      "execution_count": 3,
      "metadata": {
        "colab": {
          "base_uri": "https://localhost:8080/"
        },
        "id": "kmTuukdyh29e",
        "outputId": "aa7201fc-a209-4a5f-dd7a-e12ffa544ad4"
      },
      "outputs": [
        {
          "name": "stdout",
          "output_type": "stream",
          "text": [
            "Downloading data...\n"
          ]
        }
      ],
      "source": [
        "#@title Data download and splitting\n",
        "\n",
        "ds = SmartBuildingsDataset()\n",
        "\n",
        "# training data: Jan-June 2022\n",
        "data, metadata = ds.get_building_data(\"sb1\",\"2022_a\")\n",
        "floorplan, device_layout_map = ds.get_floorplan(\"sb1\")\n",
        "\n",
        "# validation data: July-December 2022\n",
        "data_val, metadata_val = ds.get_building_data(\"sb1\",\"2022_b\")\n",
        "floorplan_val, device_layout_map_val = ds.get_floorplan(\"sb1\")\n",
        "\n",
        "# lets split validation data into things to predict, and exogenous variables\n",
        "indexes = [v for k, v in metadata_val['observation_ids'].items() if \"zone_air_temperature_sensor\" in k]\n",
        "temp_data = data_val['observation_value_matrix'][:, indexes]\n",
        "matching_items = [(k, v) for k, v in metadata_val['observation_ids'].items() if \"zone_air_temperature_sensor\" in k]\n",
        "temp_data_ids = {k: i for i, (k, v) in enumerate(matching_items)}\n",
        "\n",
        "indexes = [v for k, v in metadata_val['observation_ids'].items() if \"zone_air_temperature_sensor\" not in k]\n",
        "exogenous_observation_data = data_val['observation_value_matrix'][:, indexes]\n",
        "matching_items = [(k, v) for k, v in metadata_val['observation_ids'].items() if \"zone_air_temperature_sensor\" not in k]\n",
        "exogenous_observation_data_ids = {k: i for i, (k, v) in enumerate(matching_items)}\n",
        "\n",
        "initial_condition = temp_data[0]"
      ]
    },
    {
      "cell_type": "markdown",
      "metadata": {
        "id": "5NJoOZ6JDeAI"
      },
      "source": [
        "# Train data:\n",
        "data['observation_value_matrix'] <br />\n",
        "metadata[\"observation_ids\"]<br />\n",
        "metadata[\"observation_timestamps\"]<br />\n",
        "<br />\n",
        "data['action_value_matrix']<br />\n",
        "metadata[\"action_ids\"]<br />\n",
        "\n",
        "floorplan\n",
        "device_layout_map\n",
        "metadata[\"device_infos\"]\n",
        "\n",
        "# Validation data:\n",
        "data_val['action_value_matrix']<br />\n",
        "metadata_val[\"action_ids\"]<br />\n",
        "metadata_val[\"observation_timestamps\"]<br />\n",
        "floorplan\n",
        "device_layout_map\n",
        "\n",
        "exogenous_observation_data<br />\n",
        "exogenous_observation_data_ids<br />\n",
        "initial_condition\n",
        "\n",
        "# Predict:\n",
        "temp_data <br />\n",
        "temp_data_ids\n"
      ]
    },
    {
      "cell_type": "markdown",
      "metadata": {
        "id": "wJ_zblrBstWZ"
      },
      "source": [
        "## Exploratory Data Analysis"
      ]
    },
    {
      "cell_type": "code",
      "execution_count": 4,
      "metadata": {
        "colab": {
          "base_uri": "https://localhost:8080/"
        },
        "id": "rtYYOxo2Chct",
        "outputId": "22d13790-1702-4429-84d8-7d84a8f4348e"
      },
      "outputs": [
        {
          "data": {
            "text/plain": [
              "(51852, 1198)"
            ]
          },
          "execution_count": 4,
          "metadata": {},
          "output_type": "execute_result"
        }
      ],
      "source": [
        "data['observation_value_matrix'].shape"
      ]
    },
    {
      "cell_type": "code",
      "execution_count": 5,
      "metadata": {
        "colab": {
          "base_uri": "https://localhost:8080/"
        },
        "id": "Htf2RjnoDYyT",
        "outputId": "dd4277d4-4bcc-4a94-f5b2-6fa858e75833"
      },
      "outputs": [
        {
          "data": {
            "text/plain": [
              "(51852, 3)"
            ]
          },
          "execution_count": 5,
          "metadata": {},
          "output_type": "execute_result"
        }
      ],
      "source": [
        "data['action_value_matrix'].shape"
      ]
    },
    {
      "cell_type": "code",
      "execution_count": 6,
      "metadata": {
        "colab": {
          "base_uri": "https://localhost:8080/"
        },
        "id": "_goiUYykD6Cl",
        "outputId": "9ffc21b7-0ea0-4831-9463-eb9c22436052"
      },
      "outputs": [
        {
          "name": "stdout",
          "output_type": "stream",
          "text": [
            "[288.70370483 310.92593384 291.48147583] [290.37036133 352.59259033 291.48147583]\n"
          ]
        }
      ],
      "source": [
        "print(data['action_value_matrix'][0], data['action_value_matrix'][3000])"
      ]
    },
    {
      "cell_type": "code",
      "execution_count": 7,
      "metadata": {
        "colab": {
          "base_uri": "https://localhost:8080/"
        },
        "id": "WM9z1zrvD7vU",
        "outputId": "298ff53e-73e0-40df-e613-721329d3c2cd"
      },
      "outputs": [
        {
          "data": {
            "text/plain": [
              "{'12945159110931775488@supply_air_temperature_setpoint': 0,\n",
              " '13761436543392677888@supply_water_temperature_setpoint': 1,\n",
              " '14409954889734029312@supply_air_temperature_setpoint': 2}"
            ]
          },
          "execution_count": 7,
          "metadata": {},
          "output_type": "execute_result"
        }
      ],
      "source": [
        "metadata['action_ids']"
      ]
    },
    {
      "cell_type": "code",
      "execution_count": null,
      "metadata": {
        "colab": {
          "base_uri": "https://localhost:8080/"
        },
        "id": "O-BUo703EQb8",
        "outputId": "3665b916-cd72-4574-cca5-6c57845c5370"
      },
      "outputs": [],
      "source": [
        "metadata[\"observation_ids\"]"
      ]
    },
    {
      "cell_type": "code",
      "execution_count": 9,
      "metadata": {
        "colab": {
          "base_uri": "https://localhost:8080/"
        },
        "id": "fEzyLQZOEVvE",
        "outputId": "f92bbd67-1e45-4969-8448-cd4c108d0771"
      },
      "outputs": [
        {
          "data": {
            "text/plain": [
              "(123,)"
            ]
          },
          "execution_count": 9,
          "metadata": {},
          "output_type": "execute_result"
        }
      ],
      "source": [
        "initial_condition.shape"
      ]
    },
    {
      "cell_type": "code",
      "execution_count": 10,
      "metadata": {
        "colab": {
          "base_uri": "https://localhost:8080/",
          "height": 433
        },
        "id": "sUIvRCpxFw2z",
        "outputId": "14f91c6b-2841-444b-c511-246bf88a56b8"
      },
      "outputs": [
        {
          "data": {
            "image/png": "[encoded data removed]",
            "text/plain": [
              "<Figure size 640x480 with 1 Axes>"
            ]
          },
          "metadata": {},
          "output_type": "display_data"
        }
      ],
      "source": [
        "from matplotlib import pyplot as plt\n",
        "plt.imshow(floorplan, interpolation='nearest')\n",
        "plt.show()"
      ]
    },
    {
      "cell_type": "code",
      "execution_count": 11,
      "metadata": {
        "colab": {
          "base_uri": "https://localhost:8080/"
        },
        "id": "i-v_IlvlG6tG",
        "outputId": "f19bd9f6-037f-4029-f593-d301ae4ea83a"
      },
      "outputs": [
        {
          "data": {
            "text/plain": [
              "dict_keys(['exterior_space', '1-13', '1-21', '1-46', '1-29', '1-12', '1-20', '1-22', '1-25', '1-28', '1-23', '1-26', '1-15', '1-14', '', '1-17', '1-32', '1-44', '1-43', '1-27', '1-18', '1-16', '1-31', '1-11', '1-10', '1-52', '1-50', '1-19', '1-47', '1-33', '1-09', '1-30', '1-08', '1-07', '1-48', '1-51', '1-34', '1-05', '1-42', '1-53', '1-39', '1-35', '1-04', '1-54', '1-37', '1-03', '1-36', '1-02', '1-55', '1-40', '2-19', '2-20', '2-21', '2-12', '2-22', '2-23', '2-27', '2-28', '2-42', '2-30', '2-31', '2-32', '2-24', '2-25', '2-26', '2-38', '2-33', '2-43', '2-39', '2-16', '2-18', '2-14', '2-40', '2-34', '2-64', '2-13', '2-10', '2-17', '2-37', '2-57', '2-44', '2-5', '2-9', '2-36', '2-8', '2-15', '2-61', '2-46', '2-35', '2-47', '2-7', '2-72', '2-60', '2-48', '2-6', '2-49', '2-65', '2-45', '2-50', '2-4', '2-3', '2-66', '2-59', '2-2', '2-51', '2-58', '2-68', '2-69', '2-67', '2-56', '2-1', '2-71', '2-70', '2-55', '2-54', '2-53', 'unrecognized'])"
            ]
          },
          "execution_count": 11,
          "metadata": {},
          "output_type": "execute_result"
        }
      ],
      "source": [
        "device_layout_map.keys()"
      ]
    },
    {
      "cell_type": "code",
      "execution_count": 12,
      "metadata": {
        "colab": {
          "base_uri": "https://localhost:8080/"
        },
        "id": "zwmNVQ6VMG1c",
        "outputId": "22ff790a-22db-4935-82ea-ab6b15e70c81"
      },
      "outputs": [
        {
          "data": {
            "text/plain": [
              "(53292, 123)"
            ]
          },
          "execution_count": 12,
          "metadata": {},
          "output_type": "execute_result"
        }
      ],
      "source": [
        "temp_data.shape"
      ]
    },
    {
      "cell_type": "markdown",
      "metadata": {
        "id": "sCJJ3-jnsz-_"
      },
      "source": [
        "## Problem Formualtion\n",
        "\n",
        "This is a multivariate time-series prediction task. We are"
      ]
    },
    {
      "cell_type": "markdown",
      "metadata": {
        "id": "P9TN0ZlmmIsz"
      },
      "source": [
        "## Dataset Configuration for Models\n",
        "\n",
        "- Training Data Timeframe: Given time and compute constraints, we will only train on June, 2022 (last month of the training data). This is 8640 timesteps.\n",
        "- For the Seq2Seq Encoder-Decoder model, at inference time, we will use all 8640 timesteps and autoregressively predict all 2016 timesteps\n",
        "  - This is not feasible in training. We thus train with sliding windows of 1 day context (encoder length 288) and 1 week prediction (decoder length 144)\n"
      ]
    },
    {
      "cell_type": "markdown",
      "metadata": {
        "id": "pVicLqlMs_co"
      },
      "source": [
        "### Extract the Desired Data Fields"
      ]
    },
    {
      "cell_type": "code",
      "execution_count": 13,
      "metadata": {
        "id": "hhjCwVRmtDZL"
      },
      "outputs": [],
      "source": [
        "data_train, metadata_train = data, metadata\n",
        "\n",
        "temp_indexes = [v for k, v in metadata_train['observation_ids'].items()\n",
        "                if \"zone_air_temperature_sensor\" in k]\n",
        "temp_data_train = data_train['observation_value_matrix'][:, temp_indexes]\n",
        "temp_data_train_ids = {\n",
        "    k: i for i, (k, v) in enumerate(\n",
        "        [(k, v) for k, v in metadata_train['observation_ids'].items()\n",
        "         if \"zone_air_temperature_sensor\" in k]\n",
        "    )\n",
        "}\n",
        "\n",
        "exog_train_indexes = [v for k, v in metadata_train['observation_ids'].items()\n",
        "                if \"zone_air_temperature_sensor\" not in k]\n",
        "exogenous_observation_data_train = data_train['observation_value_matrix'][:, exog_train_indexes]\n",
        "exogenous_observation_data_train_ids = {\n",
        "    k: i for i, (k, v) in enumerate(\n",
        "        [(k, v) for k, v in metadata_train['observation_ids'].items()\n",
        "         if \"zone_air_temperature_sensor\" not in k]\n",
        "    )\n",
        "}\n",
        "\n",
        "action_data_train = data_train['action_value_matrix']"
      ]
    },
    {
      "cell_type": "markdown",
      "metadata": {
        "id": "ZC5UEPO2twRm"
      },
      "source": [
        "### Extract the final month (June, 2022) from the training data"
      ]
    },
    {
      "cell_type": "code",
      "execution_count": 14,
      "metadata": {
        "colab": {
          "base_uri": "https://localhost:8080/"
        },
        "id": "76-9LO_MtzYt",
        "outputId": "09e11231-aadc-4bcf-ec09-c21a60861274"
      },
      "outputs": [
        {
          "name": "stdout",
          "output_type": "stream",
          "text": [
            "(8640, 123)\n",
            "(8640, 1075)\n",
            "(8640, 3)\n"
          ]
        }
      ],
      "source": [
        "train_temp = temp_data_train[-8640:]\n",
        "train_exog = exogenous_observation_data_train[-8640:]\n",
        "train_actions = action_data_train[-8640:]\n",
        "\n",
        "\n",
        "print(train_temp.shape)\n",
        "print(train_exog.shape)\n",
        "print(train_actions.shape)"
      ]
    },
    {
      "cell_type": "markdown",
      "metadata": {
        "id": "sYBhlU9utEEt"
      },
      "source": [
        "### Create Dataset for Storing and Accessing the Seq2Seq SB Data"
      ]
    },
    {
      "cell_type": "code",
      "execution_count": 15,
      "metadata": {
        "id": "3YEDaZSbnIqQ"
      },
      "outputs": [],
      "source": [
        "import torch\n",
        "from torch.utils.data import Dataset\n",
        "import numpy as np\n",
        "\n",
        "class SmartBuildingSeq2SeqDataset(Dataset):\n",
        "    def __init__(self, temp, exog, actions, k=288, n=144, stride=24):\n",
        "        \"\"\"\n",
        "        temp: [T, 123]          - temperature matrix\n",
        "        exog: [T, 1098]            - exogenous observation matrix\n",
        "        actions: [T, 3]         - action matrix\n",
        "        k: input sequence length (encoder)\n",
        "        n: output sequence length (decoder)\n",
        "        stride: how far to slide the window\n",
        "        \"\"\"\n",
        "        assert len(temp) == len(exog) == len(actions)\n",
        "        self.temp = temp\n",
        "        self.exog = exog\n",
        "        self.actions = actions\n",
        "        self.k = k\n",
        "        self.n = n\n",
        "        self.stride = stride\n",
        "\n",
        "        self.samples = []\n",
        "        for i in range(0, len(temp) - (k + n), stride):\n",
        "            #Encoder input: concatenate temp, exogenous, action vectors\n",
        "            enc_x = np.concatenate([\n",
        "                temp[i:i+k],\n",
        "                exog[i:i+k],\n",
        "                actions[i:i+k]\n",
        "            ], axis=1)\n",
        "\n",
        "            #Decoder input: vector of size n containing [T_{k-1}, T_k, ..., T_{k+n-2}]\n",
        "            dec_in = temp[i+k-1:i+k+n-1]\n",
        "\n",
        "            #Decoder targets: one time-step shifted temperature distributions [T_k, ..., T_{k+n-1}]\n",
        "            dec_out = temp[i+k:i+k+n]\n",
        "\n",
        "            dec_exog = exog[i+k:i+k+n]\n",
        "            dec_actions = actions[i+k:i+k+n]\n",
        "\n",
        "            self.samples.append((enc_x, dec_in, dec_exog, dec_actions, dec_out))\n",
        "\n",
        "    def __len__(self):\n",
        "        return len(self.samples)\n",
        "\n",
        "    def __getitem__(self, idx):\n",
        "        enc_x, dec_in, dec_exog, dec_actions, dec_out = self.samples[idx]\n",
        "        return {\n",
        "            \"encoder_input\": torch.tensor(enc_x, dtype=torch.float32),       # [k, 1201 (123 + 1075 + 3)]\n",
        "            \"decoder_input\": torch.tensor(dec_in, dtype=torch.float32),     # [n, 123]\n",
        "            \"decoder_exog\": torch.tensor(dec_exog, dtype=torch.float32),    # [n, 1075]\n",
        "            \"decoder_actions\": torch.tensor(dec_actions, dtype=torch.float32),  # [n, 3]\n",
        "            \"target\": torch.tensor(dec_out, dtype=torch.float32),           # [n, 123]\n",
        "        }\n"
      ]
    },
    {
      "cell_type": "code",
      "execution_count": 16,
      "metadata": {
        "id": "o9BVDSDZQaW1"
      },
      "outputs": [],
      "source": [
        "k = 288      # 1 day\n",
        "n = 144      # 12 hours\n",
        "stride = 24  # 2-hour step\n",
        "\n",
        "train_dataset = SmartBuildingSeq2SeqDataset(\n",
        "    temp=train_temp,\n",
        "    exog=train_exog,\n",
        "    actions=train_actions,\n",
        "    k=k, n=n, stride=stride\n",
        ")"
      ]
    },
    {
      "cell_type": "code",
      "execution_count": 17,
      "metadata": {
        "colab": {
          "base_uri": "https://localhost:8080/"
        },
        "id": "CzC8GjnK1L35",
        "outputId": "8b77d293-5abd-42e8-df21-8df8e8d95026"
      },
      "outputs": [
        {
          "name": "stdout",
          "output_type": "stream",
          "text": [
            "Encoder Input: torch.Size([288, 1201])\n",
            "Decoder Input: torch.Size([144, 123])\n",
            "Target: torch.Size([144, 123])\n"
          ]
        }
      ],
      "source": [
        "sample = train_dataset[0]\n",
        "print(\"Encoder Input:\", sample[\"encoder_input\"].shape)   # [288, 123 + m + 3]\n",
        "print(\"Decoder Input:\", sample[\"decoder_input\"].shape)   # [144, 123]\n",
        "print(\"Target:\", sample[\"target\"].shape)  # [144, 123]"
      ]
    },
    {
      "cell_type": "markdown",
      "metadata": {
        "id": "U1Dt_tAi80bx"
      },
      "source": [
        "## Encoder, Decoder and Seq2Seq Wrapper Classes\n",
        "\n",
        "Note: We only define the encoder and decoder classes at the cell level, not sequence level"
      ]
    },
    {
      "cell_type": "code",
      "execution_count": 18,
      "metadata": {
        "id": "9A-o1eHQ6SAq"
      },
      "outputs": [],
      "source": [
        "import torch\n",
        "import torch.nn as nn\n",
        "\n",
        "class EncoderLSTM(nn.Module):\n",
        "    def __init__(self, input_dim, hidden_dim, num_layers=1):\n",
        "        super(EncoderLSTM, self).__init__()\n",
        "        self.lstm = nn.LSTM(input_dim, hidden_dim, num_layers, batch_first=True)\n",
        "\n",
        "    def forward(self, x):\n",
        "        #x: [batch size, k, input_dim]\n",
        "        outputs, (h_n, c_n) = self.lstm(x)\n",
        "        return h_n, c_n\n",
        "\n",
        "class DecoderLSTM(nn.Module):\n",
        "    def __init__(self, input_dim, hidden_dim=256, output_dim=123, num_layers=1):\n",
        "        super(DecoderLSTM, self).__init__()\n",
        "        self.lstm = nn.LSTM(input_dim, hidden_dim, num_layers, batch_first=True)\n",
        "        self.fc = nn.Linear(hidden_dim, output_dim)\n",
        "\n",
        "    def forward(self, x, h_c):\n",
        "        #x: [batch size, 1, input_dim]\n",
        "        output, (h, c) = self.lstm(x, h_c)\n",
        "        pred = self.fc(output.squeeze(1))\n",
        "        return pred, (h, c)\n",
        "\n",
        "class Seq2Seq(nn.Module):\n",
        "    def __init__(self, encoder, decoder, device):\n",
        "        super(Seq2Seq, self).__init__()\n",
        "        self.encoder = encoder\n",
        "        self.decoder = decoder\n",
        "        self.device = device\n",
        "\n",
        "    def forward(self, encoder_input, decoder_inputs, exog_future, actions_future, teacher_forcing_ratio=1.0):\n",
        "        \"\"\"\n",
        "        encoder_input: [batch, k, 123 + 1098 + 3]\n",
        "        decoder_inputs: [batch, n, 123]         (ground truth T)\n",
        "        exog_future:    [batch, n, 1098]\n",
        "        actions_future: [batch, n, 3]\n",
        "        \"\"\"\n",
        "        batch_size = encoder_input.size(0)\n",
        "        n = decoder_inputs.size(1)\n",
        "\n",
        "        outputs = []\n",
        "\n",
        "        h, c = self.encoder(encoder_input)\n",
        "\n",
        "        input_t = decoder_inputs[:, 0]\n",
        "\n",
        "        for t in range(n):\n",
        "            e_t = exog_future[:, t]\n",
        "            a_t = actions_future[:, t]\n",
        "\n",
        "            x_t = torch.cat([input_t, e_t, a_t], dim=1).unsqueeze(1)  # [batch, 1, D]\n",
        "            pred_t, (h, c) = self.decoder(x_t, (h, c))\n",
        "\n",
        "            outputs.append(pred_t.unsqueeze(1))  # [batch, 1, 123]\n",
        "\n",
        "            use_teacher = torch.rand(1).item() < teacher_forcing_ratio\n",
        "            if t + 1 < n:\n",
        "                input_t = decoder_inputs[:, t + 1] if use_teacher else pred_t\n",
        "\n",
        "        return torch.cat(outputs, dim=1)  # [batch, n, 123]\n"
      ]
    },
    {
      "cell_type": "markdown",
      "metadata": {
        "id": "2-bJ4DF4QNIy"
      },
      "source": [
        "### Training Loop for Seq2Seq Model\n",
        "\n",
        "Note we use a weighted loss here that combines both standard MSE as well as a smoothless term"
      ]
    },
    {
      "cell_type": "code",
      "execution_count": 21,
      "metadata": {
        "id": "vyAgLoOF8wev"
      },
      "outputs": [],
      "source": [
        "import torch\n",
        "from torch.utils.data import DataLoader\n",
        "\n",
        "def train_seq2seq_model(model, dataset, num_epochs=100, batch_size=32, lr=1e-3, teacher_forcing_ratio=1.0, device='cuda'):\n",
        "    model = model.to(device)\n",
        "    optimizer = torch.optim.Adam(model.parameters(), lr=lr)\n",
        "    criterion = nn.MSELoss()\n",
        "\n",
        "    dataloader = DataLoader(dataset, batch_size=batch_size, shuffle=True)\n",
        "\n",
        "    model.train()\n",
        "    for epoch in range(num_epochs):\n",
        "        epoch_loss = 0.0\n",
        "        for batch in dataloader:\n",
        "            encoder_input = batch['encoder_input'].to(device)          # [B, k, D]\n",
        "            decoder_input = batch['decoder_input'].to(device)          # [B, n, 123]\n",
        "            decoder_exog = batch['decoder_exog'].to(device)            # [B, n, 1098]\n",
        "            decoder_actions = batch['decoder_actions'].to(device)      # [B, n, 3]\n",
        "            target = batch['target'].to(device)                        # [B, n, 123]\n",
        "\n",
        "            optimizer.zero_grad()\n",
        "\n",
        "            output = model(\n",
        "                encoder_input,\n",
        "                decoder_input,\n",
        "                decoder_exog,\n",
        "                decoder_actions,\n",
        "                teacher_forcing_ratio\n",
        "            )  # output: [B, n, 123]\n",
        "\n",
        "            mse_loss = criterion(output, target)\n",
        "            smoothness_loss = torch.mean((output[:, 1:] - output[:, :-1]) ** 2)\n",
        "\n",
        "            loss = mse_loss + 0.01 * smoothness_loss\n",
        "\n",
        "            loss.backward()\n",
        "            optimizer.step()\n",
        "            epoch_loss += loss.item()\n",
        "\n",
        "        print(f\"Epoch {epoch+1}/{num_epochs}, Loss: {epoch_loss/len(dataloader):.5f}\")\n"
      ]
    },
    {
      "cell_type": "code",
      "execution_count": null,
      "metadata": {
        "id": "hChLVPFlF55Z"
      },
      "outputs": [],
      "source": [
        "device = \"cuda \" if torch.cuda.is_available() else \"cpu\"\n",
        "temp_dim = train_temp.shape[1]  # 123\n",
        "exog_dim = train_exog.shape[1]  # 1098\n",
        "action_dim = train_actions.shape[1]  # 3\n",
        "input_dim_encoder = temp_dim + exog_dim + action_dim\n",
        "input_dim_decoder = temp_dim + exog_dim + action_dim\n",
        "output_dim = temp_dim\n",
        "\n",
        "hidden_dim = 256\n",
        "\n",
        "encoder = EncoderLSTM(input_dim=input_dim_encoder, hidden_dim=hidden_dim)\n",
        "decoder = DecoderLSTM(input_dim=input_dim_decoder, hidden_dim=hidden_dim, output_dim=output_dim)\n",
        "model = Seq2Seq(encoder, decoder, device=device)\n",
        "\n",
        "train_seq2seq_model(\n",
        "    model=model,\n",
        "    dataset=train_dataset,\n",
        "    num_epochs=100,\n",
        "    batch_size=32,\n",
        "    lr=1e-3,\n",
        "    teacher_forcing_ratio=1.0,\n",
        "    device=device\n",
        ")"
      ]
    },
    {
      "cell_type": "code",
      "execution_count": null,
      "metadata": {
        "id": "KKqE95hRGWbp"
      },
      "outputs": [],
      "source": [
        "torch.save(model.state_dict(), \"seq2seq_model.pt\")"
      ]
    },
    {
      "cell_type": "markdown",
      "metadata": {
        "id": "W9o71rVbQUil"
      },
      "source": [
        "## Inference"
      ]
    },
    {
      "cell_type": "code",
      "execution_count": null,
      "metadata": {
        "id": "tlaOr8uyQWI5"
      },
      "outputs": [],
      "source": [
        "def autoregressive_forecast(model, encoder_input, initial_condition, exog_future, actions_future, device='cuda'):\n",
        "    \"\"\"\n",
        "    encoder_input: [1, T_enc, 123 + m + 3]\n",
        "    initial_condition: [123]\n",
        "    exog_future: [2016, 1098]\n",
        "    actions_future: [2016, 3]\n",
        "    \"\"\"\n",
        "    model.eval()\n",
        "    model = model.to(device)\n",
        "\n",
        "    with torch.no_grad():\n",
        "        encoder_input = encoder_input.to(device)\n",
        "        exog_future = exog_future.to(device)\n",
        "        actions_future = actions_future.to(device)\n",
        "        input_t = initial_condition.to(device).unsqueeze(0)  #[1, 123]\n",
        "\n",
        "        #Encode full training history\n",
        "        h, c = model.encoder(encoder_input)\n",
        "\n",
        "        preds = []\n",
        "        for t in range(exog_future.shape[0]):\n",
        "            e_t = exog_future[t].unsqueeze(0)     # [1, 1098]\n",
        "            a_t = actions_future[t].unsqueeze(0)  # [1, 3]\n",
        "\n",
        "            dec_input = torch.cat([input_t, e_t, a_t], dim=1).unsqueeze(1)  # [1, 1, D]\n",
        "            pred_t, (h, c) = model.decoder(dec_input, (h, c))               # [1, 123]\n",
        "\n",
        "            preds.append(pred_t)\n",
        "            input_t = pred_t\n",
        "\n",
        "        return torch.stack(preds, dim=1).squeeze(0)  # [2016, 123]\n"
      ]
    },
    {
      "cell_type": "code",
      "execution_count": null,
      "metadata": {
        "id": "PKabveeHQXnW"
      },
      "outputs": [],
      "source": [
        "encoder_input_tensor = torch.tensor(\n",
        "    np.concatenate([train_temp, train_exog, train_actions], axis=1)[None, :, :],  # [1, 8640, D]\n",
        "    dtype=torch.float32\n",
        ")\n",
        "\n",
        "initial_condition_tensor = torch.tensor(initial_condition, dtype=torch.float32)\n",
        "\n",
        "exog_future_tensor = torch.tensor(exogenous_observation_data[:2016], dtype=torch.float32)  # [2016, 1098]\n",
        "actions_future_tensor = torch.tensor(data_val['action_value_matrix'][:2016], dtype=torch.float32)  # [2016, 3]\n",
        "\n",
        "predicted_sequence = autoregressive_forecast(\n",
        "    model, encoder_input_tensor, initial_condition_tensor,\n",
        "    exog_future_tensor, actions_future_tensor,\n",
        "    device='cuda'\n",
        ")  # [2016, 123]\n",
        "\n",
        "ground_truth_sequence = torch.tensor(temp_data[2016:], dtype=torch.float32)  # [2016, 123]"
      ]
    },
    {
      "cell_type": "code",
      "execution_count": null,
      "metadata": {
        "id": "u-we9bB4FnUL"
      },
      "outputs": [],
      "source": [
        "from sklearn.metrics import mean_squared_error\n",
        "from torch.nn import functional as F\n",
        "\n",
        "def compute_mse(preds, targets):\n",
        "    return mean_squared_error(targets.reshape(-1), preds.reshape(-1))\n",
        "\n",
        "\n",
        "def compute_kl_divergence(y_pred, y_true, dim=-1, eps=1e-8):\n",
        "    \"\"\"\n",
        "    Compute average KL divergence between predicted and ground truth temperature distributions.\n",
        "\n",
        "    Args:\n",
        "        y_pred: Tensor of shape [T, 123] - predicted logits or probabilities\n",
        "        y_true: Tensor of shape [T, 123] - ground truth logits or probabilities\n",
        "        dim: Dimension over which to apply softmax (usually -1)\n",
        "        eps: Small number to prevent log(0)\n",
        "\n",
        "    Returns:\n",
        "        Scalar KL divergence (mean over all timesteps)\n",
        "    \"\"\"\n",
        "    p = F.softmax(y_true, dim=dim)\n",
        "    q = F.softmax(y_pred, dim=dim)\n",
        "\n",
        "    p = p.clamp(min=eps)\n",
        "    q = q.clamp(min=eps)\n",
        "\n",
        "    kl = (p * (p.log() - q.log())).sum(dim=dim)\n",
        "    return kl.mean()\n",
        "\n",
        "\n",
        "mse = compute_mse(predicted_sequence, ground_truth_sequence)\n",
        "print(f\"MSE: {mse}\")\n",
        "\n",
        "kl_divergence = compute_kl_divergence(predicted_sequence, ground_truth_sequence)\n",
        "print(f\"KL Divergence: {kl_divergence}\")\n"
      ]
    },
    {
      "cell_type": "code",
      "execution_count": null,
      "metadata": {
        "id": "QlyiZPS2FtFd"
      },
      "outputs": [],
      "source": []
    }
  ],
  "metadata": {
    "accelerator": "GPU",
    "colab": {
      "gpuType": "T4",
      "provenance": []
    },
    "kernelspec": {
      "display_name": "Python 3",
      "name": "python3"
    },
    "language_info": {
      "codemirror_mode": {
        "name": "ipython",
        "version": 3
      },
      "file_extension": ".py",
      "mimetype": "text/x-python",
      "name": "python",
      "nbconvert_exporter": "python",
      "pygments_lexer": "ipython3",
      "version": "3.10.9"
    }
  },
  "nbformat": 4,
  "nbformat_minor": 0
}

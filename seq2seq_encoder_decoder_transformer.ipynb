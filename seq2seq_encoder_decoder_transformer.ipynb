{
  "cells": [
    {
      "cell_type": "code",
      "execution_count": 2,
      "metadata": {
        "id": "T37YESFNCbTZ"
      },
      "outputs": [],
      "source": [
        "#@title Dataset Definition\n",
        "\n",
        "\"\"\"Smart Buildings Dataset implementation, including loading and downloading.\"\"\"\n",
        "\n",
        "\n",
        "import json\n",
        "import pickle\n",
        "import shutil\n",
        "import numpy as np\n",
        "import requests\n",
        "\n",
        "\n",
        "class SmartBuildingsDataset:\n",
        " \"\"\"Smart Buildings Dataset implementation, including loading and downloading.\"\"\"\n",
        "\n",
        "\n",
        " def __init__(self, download=True):\n",
        "   self.partitions = {\n",
        "       \"sb1\": [\n",
        "           \"2022_a\",\n",
        "           \"2022_b\",\n",
        "           \"2023_a\",\n",
        "           \"2023_b\",\n",
        "           \"2024_a\",\n",
        "           \n",
        "       ],\n",
        "   }\n",
        "   if download:\n",
        "     self.download()\n",
        "\n",
        "\n",
        " def download(self):\n",
        "   \"\"\"Downloads the Smart Buildings Dataset from Google Cloud Storage.\"\"\"\n",
        "   print(\"Downloading data...\")\n",
        "\n",
        "\n",
        "   def download_file(url):\n",
        "     local_filename = url.split(\"/\")[-1]\n",
        "     with requests.get(url, stream=True) as r:\n",
        "       r.raise_for_status()\n",
        "       with open(local_filename, \"wb\") as f:\n",
        "         for chunk in r.iter_content(chunk_size=8192):\n",
        "           f.write(chunk)\n",
        "     return local_filename\n",
        "\n",
        "\n",
        "   url = \"https://storage.googleapis.com/gresearch/smart_buildings_dataset/tabular_data/sb1.zip\"\n",
        "   download_file(url)\n",
        "   shutil.unpack_archive(\"sb1.zip\", \"sb1/\")\n",
        "\n",
        " def get_floorplan(self, building):\n",
        "   \"\"\"Gets the floorplan and device layout map for a specific building.\n",
        "\n",
        "\n",
        "   Args:\n",
        "     building: The name of the building.\n",
        "\n",
        "\n",
        "   Returns:\n",
        "     A tuple containing the floorplan and device layout map.\n",
        "   \"\"\"\n",
        "   if building not in self.partitions.keys():\n",
        "     raise ValueError(\"invalid building\")\n",
        "   floorplan = np.load(f\"./{building}/tabular/floorplan.npy\")\n",
        "\n",
        "   def gdrive_to_direct_url(share_url):\n",
        "        file_id = share_url.split('/d/')[1].split('/')[0]\n",
        "        return f\"https://drive.google.com/uc?export=download&id={file_id}\"\n",
        "   share_url = \"https://drive.google.com/file/d/19W4exC1IfIpx6x_agZy3HO1ARXdxKnic/view?usp=sharing\"\n",
        "   direct_url = gdrive_to_direct_url(share_url)\n",
        "   response = requests.get(direct_url)\n",
        "   device_layout_map = response.json()\n",
        "\n",
        "   return floorplan, device_layout_map\n",
        "\n",
        "\n",
        " def get_building_data(self, building, partition):\n",
        "   \"\"\"Gets the data for a specific building and partition.\n",
        "\n",
        "\n",
        "   Args:\n",
        "     building: The name of the building.\n",
        "     partition: The name of the partition.\n",
        "\n",
        "\n",
        "   Returns:\n",
        "     A tuple containing the data and metadata.\n",
        "   \"\"\"\n",
        "   if building not in self.partitions.keys():\n",
        "     raise ValueError(\"invalid building\")\n",
        "   if partition not in self.partitions[building]:\n",
        "     raise ValueError(\"invalid partition\")\n",
        "   path = f\"./{building}/tabular/{building}/{partition}/\"\n",
        "\n",
        "\n",
        "   data = np.load(path + \"data.npy.npz\")\n",
        "   metadata = pickle.load(open(path + \"metadata.pickle\", \"rb\"))\n",
        "\n",
        "\n",
        "   if \"device_infos\" not in metadata.keys():\n",
        "     metadata[\"device_infos\"] = pickle.load(\n",
        "         open(f\"./{building}/tabular/device_info_dicts.pickle\", \"rb\")\n",
        "     )\n",
        "   if \"zone_infos\" not in metadata.keys():\n",
        "     metadata[\"zone_infos\"] = pickle.load(\n",
        "         open(f\"./{building}/tabular/zone_info_dicts.pickle\", \"rb\")\n",
        "     )\n",
        "   return data, metadata\n"
      ]
    },
    {
      "cell_type": "code",
      "execution_count": 3,
      "metadata": {
        "colab": {
          "base_uri": "https://localhost:8080/"
        },
        "id": "kmTuukdyh29e",
        "outputId": "29fb5819-9397-4b10-dd99-423a3aa82879"
      },
      "outputs": [
        {
          "name": "stdout",
          "output_type": "stream",
          "text": [
            "Downloading data...\n"
          ]
        }
      ],
      "source": [
        "#@title Data download and splitting\n",
        "\n",
        "ds = SmartBuildingsDataset()\n",
        "\n",
        "# training data: Jan-June 2022\n",
        "data, metadata = ds.get_building_data(\"sb1\",\"2022_a\")\n",
        "floorplan, device_layout_map = ds.get_floorplan(\"sb1\")\n",
        "\n",
        "# validation data: July-December 2022\n",
        "data_val, metadata_val = ds.get_building_data(\"sb1\",\"2022_b\")\n",
        "floorplan_val, device_layout_map_val = ds.get_floorplan(\"sb1\")\n",
        "\n",
        "# lets split validation data into things to predict, and exogenous variables\n",
        "indexes = [v for k, v in metadata_val['observation_ids'].items() if \"zone_air_temperature_sensor\" in k]\n",
        "temp_data = data_val['observation_value_matrix'][:, indexes]\n",
        "matching_items = [(k, v) for k, v in metadata_val['observation_ids'].items() if \"zone_air_temperature_sensor\" in k]\n",
        "temp_data_ids = {k: i for i, (k, v) in enumerate(matching_items)}\n",
        "\n",
        "indexes = [v for k, v in metadata_val['observation_ids'].items() if \"zone_air_temperature_sensor\" not in k]\n",
        "exogenous_observation_data = data_val['observation_value_matrix'][:, indexes]\n",
        "matching_items = [(k, v) for k, v in metadata_val['observation_ids'].items() if \"zone_air_temperature_sensor\" not in k]\n",
        "exogenous_observation_data_ids = {k: i for i, (k, v) in enumerate(matching_items)}\n",
        "\n",
        "initial_condition = temp_data[0]"
      ]
    },
    {
      "cell_type": "markdown",
      "metadata": {
        "id": "5NJoOZ6JDeAI"
      },
      "source": [
        "# Train data:\n",
        "data['observation_value_matrix'] <br />\n",
        "metadata[\"observation_ids\"]<br />\n",
        "metadata[\"observation_timestamps\"]<br />\n",
        "<br />\n",
        "data['action_value_matrix']<br />\n",
        "metadata[\"action_ids\"]<br />\n",
        "\n",
        "floorplan\n",
        "device_layout_map\n",
        "metadata[\"device_infos\"]\n",
        "\n",
        "# Validation data:\n",
        "data_val['action_value_matrix']<br />\n",
        "metadata_val[\"action_ids\"]<br />\n",
        "metadata_val[\"observation_timestamps\"]<br />\n",
        "floorplan\n",
        "device_layout_map\n",
        "\n",
        "exogenous_observation_data<br />\n",
        "exogenous_observation_data_ids<br />\n",
        "initial_condition\n",
        "\n",
        "# Predict:\n",
        "temp_data <br />\n",
        "temp_data_ids\n"
      ]
    },
    {
      "cell_type": "markdown",
      "metadata": {
        "id": "wJ_zblrBstWZ"
      },
      "source": [
        "## Exploratory Data Analysis"
      ]
    },
    {
      "cell_type": "code",
      "execution_count": 4,
      "metadata": {
        "colab": {
          "base_uri": "https://localhost:8080/"
        },
        "id": "rtYYOxo2Chct",
        "outputId": "02d27769-d119-46b0-9837-377bfdc4c205"
      },
      "outputs": [
        {
          "data": {
            "text/plain": [
              "(51852, 1198)"
            ]
          },
          "execution_count": 4,
          "metadata": {},
          "output_type": "execute_result"
        }
      ],
      "source": [
        "data['observation_value_matrix'].shape"
      ]
    },
    {
      "cell_type": "code",
      "execution_count": 5,
      "metadata": {
        "colab": {
          "base_uri": "https://localhost:8080/"
        },
        "id": "Htf2RjnoDYyT",
        "outputId": "1f3f9c54-256b-474e-da30-0a61bf31b650"
      },
      "outputs": [
        {
          "data": {
            "text/plain": [
              "(51852, 3)"
            ]
          },
          "execution_count": 5,
          "metadata": {},
          "output_type": "execute_result"
        }
      ],
      "source": [
        "data['action_value_matrix'].shape"
      ]
    },
    {
      "cell_type": "code",
      "execution_count": 6,
      "metadata": {
        "colab": {
          "base_uri": "https://localhost:8080/"
        },
        "id": "_goiUYykD6Cl",
        "outputId": "1217568e-8459-43e5-8149-95a7b48b9967"
      },
      "outputs": [
        {
          "name": "stdout",
          "output_type": "stream",
          "text": [
            "[288.70370483 310.92593384 291.48147583] [290.37036133 352.59259033 291.48147583]\n"
          ]
        }
      ],
      "source": [
        "print(data['action_value_matrix'][0], data['action_value_matrix'][3000])"
      ]
    },
    {
      "cell_type": "code",
      "execution_count": 7,
      "metadata": {
        "colab": {
          "base_uri": "https://localhost:8080/"
        },
        "id": "WM9z1zrvD7vU",
        "outputId": "13687ee1-60c7-4fa6-e8eb-7cda38ac31c1"
      },
      "outputs": [
        {
          "data": {
            "text/plain": [
              "{'12945159110931775488@supply_air_temperature_setpoint': 0,\n",
              " '13761436543392677888@supply_water_temperature_setpoint': 1,\n",
              " '14409954889734029312@supply_air_temperature_setpoint': 2}"
            ]
          },
          "execution_count": 7,
          "metadata": {},
          "output_type": "execute_result"
        }
      ],
      "source": [
        "metadata['action_ids']"
      ]
    },
    {
      "cell_type": "code",
      "execution_count": 8,
      "metadata": {
        "colab": {
          "base_uri": "https://localhost:8080/"
        },
        "id": "O-BUo703EQb8",
        "outputId": "aaccc772-c276-4e04-97b3-54727884f4ab"
      },
      "outputs": [
        {
          "data": {
            "text/plain": [
              "{'202194278473007104@building_air_static_pressure_setpoint': 0,\n",
              " '202194278473007104@building_air_static_pressure_sensor': 1,\n",
              " '202194278473007104@outside_air_flowrate_sensor': 2,\n",
              " '202194278473007104@exhaust_air_damper_percentage_command': 3,\n",
              " '202194278473007104@cooling_percentage_command': 4,\n",
              " '202194278473007104@supply_air_temperature_setpoint': 5,\n",
              " '202194278473007104@return_air_temperature_sensor': 6,\n",
              " '202194278473007104@supply_fan_speed_percentage_command': 7,\n",
              " '202194278473007104@supply_fan_speed_frequency_sensor': 8,\n",
              " '202194278473007104@mixed_air_temperature_sensor': 9,\n",
              " '202194278473007104@supply_air_static_pressure_sensor': 10,\n",
              " '202194278473007104@outside_air_flowrate_setpoint': 11,\n",
              " '202194278473007104@exhaust_fan_speed_frequency_sensor': 12,\n",
              " '202194278473007104@exhaust_fan_speed_percentage_command': 13,\n",
              " '202194278473007104@mixed_air_temperature_setpoint': 14,\n",
              " '202194278473007104@supply_air_temperature_sensor': 15,\n",
              " '202194278473007104@outside_air_damper_percentage_command': 16,\n",
              " '202194278473007104@supply_air_static_pressure_setpoint': 17,\n",
              " '2760348383893915@zone_air_co2_concentration_setpoint': 18,\n",
              " '2760348383893915@supply_air_flowrate_setpoint': 19,\n",
              " '2760348383893915@supply_air_flowrate_sensor': 20,\n",
              " '2760348383893915@zone_air_cooling_temperature_setpoint': 21,\n",
              " '2760348383893915@zone_air_heating_temperature_setpoint': 22,\n",
              " '2760348383893915@zone_air_temperature_sensor': 23,\n",
              " '2760348383893915@supply_air_damper_percentage_command': 24,\n",
              " '2760348383893915@zone_air_co2_concentration_sensor': 25,\n",
              " '2562701969438717@supply_air_flowrate_setpoint': 26,\n",
              " '2562701969438717@zone_air_heating_temperature_setpoint': 27,\n",
              " '2562701969438717@zone_air_temperature_sensor': 28,\n",
              " '2562701969438717@supply_air_flowrate_sensor': 29,\n",
              " '2562701969438717@supply_air_damper_percentage_command': 30,\n",
              " '2562701969438717@zone_air_cooling_temperature_setpoint': 31,\n",
              " '2806035809406684@discharge_air_temperature_setpoint': 32,\n",
              " '2806035809406684@heating_water_valve_percentage_command': 33,\n",
              " '2806035809406684@zone_air_cooling_temperature_setpoint': 34,\n",
              " '2806035809406684@zone_air_temperature_sensor': 35,\n",
              " '2806035809406684@zone_air_heating_temperature_setpoint': 36,\n",
              " '2806035809406684@discharge_air_temperature_sensor': 37,\n",
              " '2806035809406684@supply_air_damper_percentage_command': 38,\n",
              " '2806035809406684@supply_air_flowrate_setpoint': 39,\n",
              " '2806035809406684@supply_air_flowrate_sensor': 40,\n",
              " '2790439929052995@zone_air_heating_temperature_setpoint': 41,\n",
              " '2790439929052995@zone_air_temperature_sensor': 42,\n",
              " '2790439929052995@supply_air_flowrate_setpoint': 43,\n",
              " '2790439929052995@zone_air_cooling_temperature_setpoint': 44,\n",
              " '2790439929052995@supply_air_damper_percentage_command': 45,\n",
              " '2790439929052995@supply_air_flowrate_sensor': 46,\n",
              " '2628534928204590@heating_water_valve_percentage_command': 47,\n",
              " '2628534928204590@zone_air_cooling_temperature_setpoint': 48,\n",
              " '2628534928204590@supply_air_damper_percentage_command': 49,\n",
              " '2628534928204590@supply_air_flowrate_sensor': 50,\n",
              " '2628534928204590@zone_air_heating_temperature_setpoint': 51,\n",
              " '2628534928204590@discharge_air_temperature_setpoint': 52,\n",
              " '2628534928204590@supply_air_flowrate_setpoint': 53,\n",
              " '2628534928204590@discharge_air_temperature_sensor': 54,\n",
              " '2628534928204590@zone_air_co2_concentration_setpoint': 55,\n",
              " '2628534928204590@zone_air_temperature_sensor': 56,\n",
              " '2628534928204590@zone_air_co2_concentration_sensor': 57,\n",
              " '2535333053617205@zone_air_temperature_sensor': 58,\n",
              " '2535333053617205@discharge_air_temperature_sensor': 59,\n",
              " '2535333053617205@supply_air_flowrate_setpoint': 60,\n",
              " '2535333053617205@supply_air_flowrate_sensor': 61,\n",
              " '2535333053617205@heating_water_valve_percentage_command': 62,\n",
              " '2535333053617205@zone_air_cooling_temperature_setpoint': 63,\n",
              " '2535333053617205@zone_air_co2_concentration_setpoint': 64,\n",
              " '2535333053617205@discharge_air_temperature_setpoint': 65,\n",
              " '2535333053617205@zone_air_co2_concentration_sensor': 66,\n",
              " '2535333053617205@supply_air_damper_percentage_command': 67,\n",
              " '2535333053617205@zone_air_heating_temperature_setpoint': 68,\n",
              " '2619255661594253@supply_air_flowrate_setpoint': 69,\n",
              " '2619255661594253@zone_air_heating_temperature_setpoint': 70,\n",
              " '2619255661594253@zone_air_cooling_temperature_setpoint': 71,\n",
              " '2619255661594253@supply_air_flowrate_sensor': 72,\n",
              " '2619255661594253@supply_air_damper_percentage_command': 73,\n",
              " '2619255661594253@zone_air_temperature_sensor': 74,\n",
              " '2618781414146613@supply_air_damper_percentage_command': 75,\n",
              " '2618781414146613@supply_air_flowrate_setpoint': 76,\n",
              " '2618781414146613@zone_air_heating_temperature_setpoint': 77,\n",
              " '2618781414146613@zone_air_cooling_temperature_setpoint': 78,\n",
              " '2618781414146613@discharge_air_temperature_sensor': 79,\n",
              " '2618781414146613@zone_air_temperature_sensor': 80,\n",
              " '2618781414146613@heating_water_valve_percentage_command': 81,\n",
              " '2618781414146613@supply_air_flowrate_sensor': 82,\n",
              " '2618781414146613@discharge_air_temperature_setpoint': 83,\n",
              " '2613654138967436@discharge_air_temperature_sensor': 84,\n",
              " '2613654138967436@supply_air_flowrate_sensor': 85,\n",
              " '2613654138967436@zone_air_temperature_sensor': 86,\n",
              " '2613654138967436@supply_air_damper_percentage_command': 87,\n",
              " '2613654138967436@heating_water_valve_percentage_command': 88,\n",
              " '2613654138967436@discharge_air_temperature_setpoint': 89,\n",
              " '2613654138967436@supply_air_flowrate_setpoint': 90,\n",
              " '2613654138967436@zone_air_cooling_temperature_setpoint': 91,\n",
              " '2613654138967436@zone_air_heating_temperature_setpoint': 92,\n",
              " '2762982574975969@zone_air_temperature_sensor': 93,\n",
              " '2762982574975969@zone_air_heating_temperature_setpoint': 94,\n",
              " '2762982574975969@heating_water_valve_percentage_command': 95,\n",
              " '2762982574975969@zone_air_co2_concentration_setpoint': 96,\n",
              " '2762982574975969@discharge_air_temperature_setpoint': 97,\n",
              " '2762982574975969@discharge_air_temperature_sensor': 98,\n",
              " '2762982574975969@supply_air_flowrate_setpoint': 99,\n",
              " '2762982574975969@supply_air_damper_percentage_command': 100,\n",
              " '2762982574975969@zone_air_cooling_temperature_setpoint': 101,\n",
              " '2762982574975969@supply_air_flowrate_sensor': 102,\n",
              " '2762982574975969@zone_air_co2_concentration_sensor': 103,\n",
              " '1632116846977089536@speed_frequency_sensor': 104,\n",
              " '1632116846977089536@run_status': 105,\n",
              " '1632116846977089536@speed_percentage_command': 106,\n",
              " '2578499186529204@supply_air_flowrate_sensor': 107,\n",
              " '2578499186529204@supply_air_flowrate_setpoint': 108,\n",
              " '2578499186529204@discharge_air_temperature_setpoint': 109,\n",
              " '2578499186529204@heating_water_valve_percentage_command': 110,\n",
              " '2578499186529204@zone_air_heating_temperature_setpoint': 111,\n",
              " '2578499186529204@zone_air_temperature_sensor': 112,\n",
              " '2578499186529204@discharge_air_temperature_sensor': 113,\n",
              " '2578499186529204@supply_air_damper_percentage_command': 114,\n",
              " '2578499186529204@zone_air_cooling_temperature_setpoint': 115,\n",
              " '2693289483686059@discharge_air_temperature_sensor': 116,\n",
              " '2693289483686059@zone_air_cooling_temperature_setpoint': 117,\n",
              " '2693289483686059@supply_air_flowrate_setpoint': 118,\n",
              " '2693289483686059@heating_water_valve_percentage_command': 119,\n",
              " '2693289483686059@supply_air_damper_percentage_command': 120,\n",
              " '2693289483686059@zone_air_co2_concentration_setpoint': 121,\n",
              " '2693289483686059@zone_air_temperature_sensor': 122,\n",
              " '2693289483686059@zone_air_heating_temperature_setpoint': 123,\n",
              " '2693289483686059@discharge_air_temperature_setpoint': 124,\n",
              " '2693289483686059@supply_air_flowrate_sensor': 125,\n",
              " '2693289483686059@zone_air_co2_concentration_sensor': 126,\n",
              " '2549483694528743@zone_air_co2_concentration_setpoint': 127,\n",
              " '2549483694528743@supply_air_flowrate_setpoint': 128,\n",
              " '2549483694528743@zone_air_co2_concentration_sensor': 129,\n",
              " '2549483694528743@supply_air_flowrate_sensor': 130,\n",
              " '2549483694528743@zone_air_temperature_sensor': 131,\n",
              " '2549483694528743@zone_air_cooling_temperature_setpoint': 132,\n",
              " '2549483694528743@supply_air_damper_percentage_command': 133,\n",
              " '2549483694528743@zone_air_heating_temperature_setpoint': 134,\n",
              " '2614466029028994@heating_water_valve_percentage_command': 135,\n",
              " '2614466029028994@zone_air_temperature_sensor': 136,\n",
              " '2614466029028994@zone_air_heating_temperature_setpoint': 137,\n",
              " '2614466029028994@discharge_air_temperature_sensor': 138,\n",
              " '2614466029028994@zone_air_cooling_temperature_setpoint': 139,\n",
              " '2614466029028994@supply_air_flowrate_setpoint': 140,\n",
              " '2614466029028994@discharge_air_temperature_setpoint': 141,\n",
              " '2614466029028994@supply_air_damper_percentage_command': 142,\n",
              " '2614466029028994@supply_air_flowrate_sensor': 143,\n",
              " '2760979770441910@zone_air_temperature_sensor': 144,\n",
              " '2760979770441910@supply_air_damper_percentage_command': 145,\n",
              " '2760979770441910@supply_air_flowrate_sensor': 146,\n",
              " '2760979770441910@supply_air_flowrate_setpoint': 147,\n",
              " '2760979770441910@zone_air_cooling_temperature_setpoint': 148,\n",
              " '2760979770441910@zone_air_co2_concentration_setpoint': 149,\n",
              " '2760979770441910@zone_air_heating_temperature_setpoint': 150,\n",
              " '2760979770441910@zone_air_co2_concentration_sensor': 151,\n",
              " '2291864505572917248@outside_air_wetbulb_temperature_sensor': 152,\n",
              " '2291864505572917248@outside_air_dewpoint_temperature_sensor': 153,\n",
              " '2291864505572917248@outside_air_temperature_sensor': 154,\n",
              " '2291864505572917248@outside_air_relative_humidity_sensor': 155,\n",
              " '2291864505572917248@outside_air_specificenthalpy_sensor': 156,\n",
              " '2732460999450017@zone_air_cooling_temperature_setpoint': 157,\n",
              " '2732460999450017@supply_air_flowrate_setpoint': 158,\n",
              " '2732460999450017@zone_air_heating_temperature_setpoint': 159,\n",
              " '2732460999450017@zone_air_temperature_sensor': 160,\n",
              " '2732460999450017@supply_air_flowrate_sensor': 161,\n",
              " '2732460999450017@heating_water_valve_percentage_command': 162,\n",
              " '2732460999450017@discharge_air_temperature_setpoint': 163,\n",
              " '2732460999450017@supply_air_damper_percentage_command': 164,\n",
              " '2732460999450017@discharge_air_temperature_sensor': 165,\n",
              " '2549513081490212@supply_air_flowrate_setpoint': 166,\n",
              " '2549513081490212@supply_air_damper_percentage_command': 167,\n",
              " '2549513081490212@supply_air_flowrate_sensor': 168,\n",
              " '2549513081490212@heating_water_valve_percentage_command': 169,\n",
              " '2549513081490212@zone_air_temperature_sensor': 170,\n",
              " '2549513081490212@discharge_air_temperature_setpoint': 171,\n",
              " '2549513081490212@zone_air_cooling_temperature_setpoint': 172,\n",
              " '2549513081490212@discharge_air_temperature_sensor': 173,\n",
              " '2549513081490212@zone_air_heating_temperature_setpoint': 174,\n",
              " '2737293899563066@zone_air_temperature_sensor': 175,\n",
              " '2737293899563066@discharge_air_temperature_setpoint': 176,\n",
              " '2737293899563066@zone_air_heating_temperature_setpoint': 177,\n",
              " '2737293899563066@zone_air_cooling_temperature_setpoint': 178,\n",
              " '2737293899563066@supply_air_damper_percentage_command': 179,\n",
              " '2737293899563066@supply_air_flowrate_sensor': 180,\n",
              " '2737293899563066@heating_water_valve_percentage_command': 181,\n",
              " '2737293899563066@supply_air_flowrate_setpoint': 182,\n",
              " '2737293899563066@discharge_air_temperature_sensor': 183,\n",
              " '2710040674126014@supply_air_damper_percentage_command': 184,\n",
              " '2710040674126014@supply_air_flowrate_sensor': 185,\n",
              " '2710040674126014@zone_air_heating_temperature_setpoint': 186,\n",
              " '2710040674126014@heating_water_valve_percentage_command': 187,\n",
              " '2710040674126014@supply_air_flowrate_setpoint': 188,\n",
              " '2710040674126014@zone_air_temperature_sensor': 189,\n",
              " '2710040674126014@zone_air_cooling_temperature_setpoint': 190,\n",
              " '2710040674126014@discharge_air_temperature_sensor': 191,\n",
              " '2710040674126014@discharge_air_temperature_setpoint': 192,\n",
              " '3111519637754347520@differential_pressure_sensor': 193,\n",
              " '3111519637754347520@differential_pressure_setpoint': 194,\n",
              " '3111519637754347520@return_water_temperature_sensor': 195,\n",
              " '2570355700484963@zone_air_co2_concentration_setpoint': 196,\n",
              " '2570355700484963@supply_air_flowrate_sensor': 197,\n",
              " '2570355700484963@zone_air_co2_concentration_sensor': 198,\n",
              " '2570355700484963@discharge_air_temperature_setpoint': 199,\n",
              " '2570355700484963@supply_air_damper_percentage_command': 200,\n",
              " '2570355700484963@zone_air_temperature_sensor': 201,\n",
              " '2570355700484963@heating_water_valve_percentage_command': 202,\n",
              " '2570355700484963@zone_air_heating_temperature_setpoint': 203,\n",
              " '2570355700484963@supply_air_flowrate_setpoint': 204,\n",
              " '2570355700484963@discharge_air_temperature_sensor': 205,\n",
              " '2570355700484963@zone_air_cooling_temperature_setpoint': 206,\n",
              " '2779591174908667@discharge_air_temperature_setpoint': 207,\n",
              " '2779591174908667@zone_air_cooling_temperature_setpoint': 208,\n",
              " '2779591174908667@discharge_air_temperature_sensor': 209,\n",
              " '2779591174908667@supply_air_damper_percentage_command': 210,\n",
              " '2779591174908667@zone_air_heating_temperature_setpoint': 211,\n",
              " '2779591174908667@supply_air_flowrate_sensor': 212,\n",
              " '2779591174908667@zone_air_temperature_sensor': 213,\n",
              " '2779591174908667@heating_water_valve_percentage_command': 214,\n",
              " '2779591174908667@supply_air_flowrate_setpoint': 215,\n",
              " '2768768486087571@zone_air_heating_temperature_setpoint': 216,\n",
              " '2768768486087571@zone_air_cooling_temperature_setpoint': 217,\n",
              " '2768768486087571@supply_air_flowrate_sensor': 218,\n",
              " '2768768486087571@discharge_air_temperature_sensor': 219,\n",
              " '2768768486087571@heating_water_valve_percentage_command': 220,\n",
              " '2768768486087571@discharge_air_temperature_setpoint': 221,\n",
              " '2768768486087571@zone_air_temperature_sensor': 222,\n",
              " '2768768486087571@supply_air_damper_percentage_command': 223,\n",
              " '2768768486087571@supply_air_flowrate_setpoint': 224,\n",
              " '2810271246509820@zone_air_cooling_temperature_setpoint': 225,\n",
              " '2810271246509820@discharge_air_temperature_setpoint': 226,\n",
              " '2810271246509820@supply_air_damper_percentage_command': 227,\n",
              " '2810271246509820@zone_air_co2_concentration_setpoint': 228,\n",
              " '2810271246509820@zone_air_heating_temperature_setpoint': 229,\n",
              " '2810271246509820@zone_air_co2_concentration_sensor': 230,\n",
              " '2810271246509820@discharge_air_temperature_sensor': 231,\n",
              " '2810271246509820@supply_air_flowrate_setpoint': 232,\n",
              " '2810271246509820@heating_water_valve_percentage_command': 233,\n",
              " '2810271246509820@zone_air_temperature_sensor': 234,\n",
              " '2810271246509820@supply_air_flowrate_sensor': 235,\n",
              " '2705858092749449@zone_air_cooling_temperature_setpoint': 236,\n",
              " '2705858092749449@supply_air_flowrate_setpoint': 237,\n",
              " '2705858092749449@supply_air_flowrate_sensor': 238,\n",
              " '2705858092749449@zone_air_heating_temperature_setpoint': 239,\n",
              " '2705858092749449@supply_air_damper_percentage_command': 240,\n",
              " '2705858092749449@zone_air_temperature_sensor': 241,\n",
              " '2693840961422865@supply_air_damper_percentage_command': 242,\n",
              " '2693840961422865@supply_air_flowrate_setpoint': 243,\n",
              " '2693840961422865@zone_air_heating_temperature_setpoint': 244,\n",
              " '2693840961422865@heating_water_valve_percentage_command': 245,\n",
              " '2693840961422865@discharge_air_temperature_sensor': 246,\n",
              " '2693840961422865@discharge_air_temperature_setpoint': 247,\n",
              " '2693840961422865@zone_air_cooling_temperature_setpoint': 248,\n",
              " '2693840961422865@zone_air_temperature_sensor': 249,\n",
              " '2693840961422865@supply_air_flowrate_sensor': 250,\n",
              " '2740082748651605@discharge_air_temperature_sensor': 251,\n",
              " '2740082748651605@supply_air_flowrate_setpoint': 252,\n",
              " '2740082748651605@zone_air_heating_temperature_setpoint': 253,\n",
              " '2740082748651605@zone_air_cooling_temperature_setpoint': 254,\n",
              " '2740082748651605@discharge_air_temperature_setpoint': 255,\n",
              " '2740082748651605@zone_air_temperature_sensor': 256,\n",
              " '2740082748651605@supply_air_flowrate_sensor': 257,\n",
              " '2740082748651605@heating_water_valve_percentage_command': 258,\n",
              " '2740082748651605@supply_air_damper_percentage_command': 259,\n",
              " '2802781341872564@zone_air_heating_temperature_setpoint': 260,\n",
              " '2802781341872564@supply_air_flowrate_sensor': 261,\n",
              " '2802781341872564@discharge_air_temperature_sensor': 262,\n",
              " '2802781341872564@discharge_air_temperature_setpoint': 263,\n",
              " '2802781341872564@heating_water_valve_percentage_command': 264,\n",
              " '2802781341872564@zone_air_cooling_temperature_setpoint': 265,\n",
              " '2802781341872564@zone_air_temperature_sensor': 266,\n",
              " '2802781341872564@supply_air_damper_percentage_command': 267,\n",
              " '2802781341872564@supply_air_flowrate_setpoint': 268,\n",
              " '2568004980110825@zone_air_temperature_sensor': 269,\n",
              " '2568004980110825@discharge_air_temperature_sensor': 270,\n",
              " '2568004980110825@discharge_air_temperature_setpoint': 271,\n",
              " '2568004980110825@supply_air_flowrate_setpoint': 272,\n",
              " '2568004980110825@zone_air_cooling_temperature_setpoint': 273,\n",
              " '2568004980110825@supply_air_flowrate_sensor': 274,\n",
              " '2568004980110825@heating_water_valve_percentage_command': 275,\n",
              " '2568004980110825@supply_air_damper_percentage_command': 276,\n",
              " '2568004980110825@zone_air_heating_temperature_setpoint': 277,\n",
              " '2791846410789505@zone_air_cooling_temperature_setpoint': 278,\n",
              " '2791846410789505@supply_air_flowrate_sensor': 279,\n",
              " '2791846410789505@zone_air_heating_temperature_setpoint': 280,\n",
              " '2791846410789505@supply_air_damper_percentage_command': 281,\n",
              " '2791846410789505@discharge_air_temperature_setpoint': 282,\n",
              " '2791846410789505@discharge_air_temperature_sensor': 283,\n",
              " '2791846410789505@heating_water_valve_percentage_command': 284,\n",
              " '2791846410789505@zone_air_temperature_sensor': 285,\n",
              " '2791846410789505@supply_air_flowrate_setpoint': 286,\n",
              " '2651420801112308@discharge_air_temperature_setpoint': 287,\n",
              " '2651420801112308@supply_air_damper_percentage_command': 288,\n",
              " '2651420801112308@zone_air_cooling_temperature_setpoint': 289,\n",
              " '2651420801112308@discharge_air_temperature_sensor': 290,\n",
              " '2651420801112308@zone_air_heating_temperature_setpoint': 291,\n",
              " '2651420801112308@heating_water_valve_percentage_command': 292,\n",
              " '2651420801112308@zone_air_temperature_sensor': 293,\n",
              " '2651420801112308@supply_air_flowrate_setpoint': 294,\n",
              " '2651420801112308@supply_air_flowrate_sensor': 295,\n",
              " '2792140000757803@zone_air_cooling_temperature_setpoint': 296,\n",
              " '2792140000757803@discharge_air_temperature_sensor': 297,\n",
              " '2792140000757803@supply_air_flowrate_sensor': 298,\n",
              " '2792140000757803@supply_air_flowrate_setpoint': 299,\n",
              " '2792140000757803@discharge_air_temperature_setpoint': 300,\n",
              " '2792140000757803@zone_air_temperature_sensor': 301,\n",
              " '2792140000757803@heating_water_valve_percentage_command': 302,\n",
              " '2792140000757803@supply_air_damper_percentage_command': 303,\n",
              " '2792140000757803@zone_air_heating_temperature_setpoint': 304,\n",
              " '2788179547754974@heating_water_valve_percentage_command': 305,\n",
              " '2788179547754974@discharge_air_temperature_setpoint': 306,\n",
              " '2788179547754974@supply_air_flowrate_sensor': 307,\n",
              " '2788179547754974@zone_air_temperature_sensor': 308,\n",
              " '2788179547754974@discharge_air_temperature_sensor': 309,\n",
              " '2788179547754974@zone_air_cooling_temperature_setpoint': 310,\n",
              " '2788179547754974@supply_air_flowrate_setpoint': 311,\n",
              " '2788179547754974@supply_air_damper_percentage_command': 312,\n",
              " '2788179547754974@zone_air_heating_temperature_setpoint': 313,\n",
              " '2747395873491002@zone_air_co2_concentration_sensor': 314,\n",
              " '2747395873491002@zone_air_co2_concentration_setpoint': 315,\n",
              " '2747395873491002@supply_air_damper_percentage_command': 316,\n",
              " '2747395873491002@supply_air_flowrate_sensor': 317,\n",
              " '2747395873491002@zone_air_heating_temperature_setpoint': 318,\n",
              " '2747395873491002@zone_air_temperature_sensor': 319,\n",
              " '2747395873491002@supply_air_flowrate_setpoint': 320,\n",
              " '2747395873491002@zone_air_cooling_temperature_setpoint': 321,\n",
              " '2618581107144046@zone_air_heating_temperature_setpoint': 322,\n",
              " '2618581107144046@discharge_air_temperature_sensor': 323,\n",
              " '2618581107144046@discharge_air_temperature_setpoint': 324,\n",
              " '2618581107144046@supply_air_flowrate_sensor': 325,\n",
              " '2618581107144046@heating_water_valve_percentage_command': 326,\n",
              " '2618581107144046@zone_air_temperature_sensor': 327,\n",
              " '2618581107144046@supply_air_damper_percentage_command': 328,\n",
              " '2618581107144046@supply_air_flowrate_setpoint': 329,\n",
              " '2618581107144046@zone_air_cooling_temperature_setpoint': 330,\n",
              " '2656676039327836@zone_air_heating_temperature_setpoint': 331,\n",
              " '2656676039327836@supply_air_damper_percentage_command': 332,\n",
              " '2656676039327836@supply_air_flowrate_sensor': 333,\n",
              " '2656676039327836@supply_air_flowrate_setpoint': 334,\n",
              " '2656676039327836@discharge_air_temperature_sensor': 335,\n",
              " '2656676039327836@heating_water_valve_percentage_command': 336,\n",
              " '2656676039327836@zone_air_temperature_sensor': 337,\n",
              " '2656676039327836@zone_air_cooling_temperature_setpoint': 338,\n",
              " '2656676039327836@discharge_air_temperature_setpoint': 339,\n",
              " '2794597849078830@supply_air_flowrate_setpoint': 340,\n",
              " '2794597849078830@zone_air_heating_temperature_setpoint': 341,\n",
              " '2794597849078830@supply_air_damper_percentage_command': 342,\n",
              " '2794597849078830@zone_air_co2_concentration_setpoint': 343,\n",
              " '2794597849078830@zone_air_cooling_temperature_setpoint': 344,\n",
              " '2794597849078830@zone_air_temperature_sensor': 345,\n",
              " '2794597849078830@zone_air_co2_concentration_sensor': 346,\n",
              " '2794597849078830@supply_air_flowrate_sensor': 347,\n",
              " '2601599180090084@zone_air_temperature_sensor': 348,\n",
              " '2601599180090084@zone_air_heating_temperature_setpoint': 349,\n",
              " '2601599180090084@zone_air_co2_concentration_setpoint': 350,\n",
              " '2601599180090084@supply_air_flowrate_setpoint': 351,\n",
              " '2601599180090084@zone_air_cooling_temperature_setpoint': 352,\n",
              " '2601599180090084@zone_air_co2_concentration_sensor': 353,\n",
              " '2601599180090084@supply_air_flowrate_sensor': 354,\n",
              " '2601599180090084@supply_air_damper_percentage_command': 355,\n",
              " '2546477821573302@zone_air_cooling_temperature_setpoint': 356,\n",
              " '2546477821573302@supply_air_damper_percentage_command': 357,\n",
              " '2546477821573302@discharge_air_temperature_sensor': 358,\n",
              " '2546477821573302@supply_air_flowrate_sensor': 359,\n",
              " '2546477821573302@zone_air_heating_temperature_setpoint': 360,\n",
              " '2546477821573302@heating_water_valve_percentage_command': 361,\n",
              " '2546477821573302@discharge_air_temperature_setpoint': 362,\n",
              " '2546477821573302@zone_air_temperature_sensor': 363,\n",
              " '2546477821573302@supply_air_flowrate_setpoint': 364,\n",
              " '2743847121700440@zone_air_cooling_temperature_setpoint': 365,\n",
              " '2743847121700440@supply_air_flowrate_sensor': 366,\n",
              " '2743847121700440@heating_water_valve_percentage_command': 367,\n",
              " '2743847121700440@zone_air_temperature_sensor': 368,\n",
              " '2743847121700440@zone_air_co2_concentration_sensor': 369,\n",
              " '2743847121700440@zone_air_heating_temperature_setpoint': 370,\n",
              " '2743847121700440@discharge_air_temperature_setpoint': 371,\n",
              " '2743847121700440@zone_air_co2_concentration_setpoint': 372,\n",
              " '2743847121700440@supply_air_damper_percentage_command': 373,\n",
              " '2743847121700440@discharge_air_temperature_sensor': 374,\n",
              " '2743847121700440@supply_air_flowrate_setpoint': 375,\n",
              " '5417362646968041472@speed_percentage_command': 376,\n",
              " '5417362646968041472@speed_frequency_sensor': 377,\n",
              " '2803088381116360@zone_air_heating_temperature_setpoint': 378,\n",
              " '2803088381116360@discharge_air_temperature_sensor': 379,\n",
              " '2803088381116360@zone_air_temperature_sensor': 380,\n",
              " '2803088381116360@heating_water_valve_percentage_command': 381,\n",
              " '2803088381116360@supply_air_damper_percentage_command': 382,\n",
              " '2803088381116360@discharge_air_temperature_setpoint': 383,\n",
              " '2803088381116360@supply_air_flowrate_setpoint': 384,\n",
              " '2803088381116360@zone_air_cooling_temperature_setpoint': 385,\n",
              " '2803088381116360@supply_air_flowrate_sensor': 386,\n",
              " '2731964581915812@discharge_air_temperature_sensor': 387,\n",
              " '2731964581915812@heating_water_valve_percentage_command': 388,\n",
              " '2731964581915812@zone_air_temperature_sensor': 389,\n",
              " '2731964581915812@supply_air_flowrate_setpoint': 390,\n",
              " '2731964581915812@zone_air_heating_temperature_setpoint': 391,\n",
              " '2731964581915812@supply_air_flowrate_sensor': 392,\n",
              " '2731964581915812@discharge_air_temperature_setpoint': 393,\n",
              " '2731964581915812@supply_air_damper_percentage_command': 394,\n",
              " '2731964581915812@zone_air_cooling_temperature_setpoint': 395,\n",
              " '2684239960710884@discharge_air_temperature_sensor': 396,\n",
              " '2684239960710884@zone_air_heating_temperature_setpoint': 397,\n",
              " '2684239960710884@supply_air_damper_percentage_command': 398,\n",
              " '2684239960710884@heating_water_valve_percentage_command': 399,\n",
              " '2684239960710884@zone_air_temperature_sensor': 400,\n",
              " '2684239960710884@supply_air_flowrate_sensor': 401,\n",
              " '2684239960710884@discharge_air_temperature_setpoint': 402,\n",
              " '2684239960710884@zone_air_cooling_temperature_setpoint': 403,\n",
              " '2684239960710884@supply_air_flowrate_setpoint': 404,\n",
              " '2786928005384747@zone_air_cooling_temperature_setpoint': 405,\n",
              " '2786928005384747@zone_air_temperature_sensor': 406,\n",
              " '2786928005384747@supply_air_damper_percentage_command': 407,\n",
              " '2786928005384747@supply_air_flowrate_setpoint': 408,\n",
              " '2786928005384747@discharge_air_temperature_sensor': 409,\n",
              " '2786928005384747@supply_air_flowrate_sensor': 410,\n",
              " '2786928005384747@zone_air_heating_temperature_setpoint': 411,\n",
              " '2786928005384747@heating_water_valve_percentage_command': 412,\n",
              " '2786928005384747@discharge_air_temperature_setpoint': 413,\n",
              " '2584468317047883@zone_air_cooling_temperature_setpoint': 414,\n",
              " '2584468317047883@discharge_air_temperature_sensor': 415,\n",
              " '2584468317047883@zone_air_temperature_sensor': 416,\n",
              " '2584468317047883@supply_air_damper_percentage_command': 417,\n",
              " '2584468317047883@discharge_air_temperature_setpoint': 418,\n",
              " '2584468317047883@supply_air_flowrate_sensor': 419,\n",
              " '2584468317047883@supply_air_flowrate_setpoint': 420,\n",
              " '2584468317047883@zone_air_heating_temperature_setpoint': 421,\n",
              " '2584468317047883@heating_water_valve_percentage_command': 422,\n",
              " '2687242320524339@heating_water_valve_percentage_command': 423,\n",
              " '2687242320524339@supply_air_flowrate_sensor': 424,\n",
              " '2687242320524339@discharge_air_temperature_setpoint': 425,\n",
              " '2687242320524339@zone_air_cooling_temperature_setpoint': 426,\n",
              " '2687242320524339@supply_air_damper_percentage_command': 427,\n",
              " '2687242320524339@zone_air_temperature_sensor': 428,\n",
              " '2687242320524339@discharge_air_temperature_sensor': 429,\n",
              " '2687242320524339@zone_air_heating_temperature_setpoint': 430,\n",
              " '2687242320524339@supply_air_flowrate_setpoint': 431,\n",
              " '2612620611294283@discharge_air_temperature_sensor': 432,\n",
              " '2612620611294283@discharge_air_temperature_setpoint': 433,\n",
              " '2612620611294283@supply_air_damper_percentage_command': 434,\n",
              " '2612620611294283@heating_water_valve_percentage_command': 435,\n",
              " '2612620611294283@zone_air_heating_temperature_setpoint': 436,\n",
              " '2612620611294283@zone_air_cooling_temperature_setpoint': 437,\n",
              " '2612620611294283@zone_air_co2_concentration_setpoint': 438,\n",
              " '2612620611294283@zone_air_co2_concentration_sensor': 439,\n",
              " '2612620611294283@zone_air_temperature_sensor': 440,\n",
              " '2612620611294283@supply_air_flowrate_sensor': 441,\n",
              " '2612620611294283@supply_air_flowrate_setpoint': 442,\n",
              " '2580539066022773@zone_air_temperature_sensor': 443,\n",
              " '2580539066022773@supply_air_damper_percentage_command': 444,\n",
              " '2580539066022773@supply_air_flowrate_setpoint': 445,\n",
              " '2580539066022773@supply_air_flowrate_sensor': 446,\n",
              " '2580539066022773@zone_air_heating_temperature_setpoint': 447,\n",
              " '2580539066022773@zone_air_cooling_temperature_setpoint': 448,\n",
              " '2691496710334693@supply_air_flowrate_setpoint': 449,\n",
              " '2691496710334693@zone_air_heating_temperature_setpoint': 450,\n",
              " '2691496710334693@supply_air_flowrate_sensor': 451,\n",
              " '2691496710334693@zone_air_cooling_temperature_setpoint': 452,\n",
              " '2691496710334693@zone_air_co2_concentration_setpoint': 453,\n",
              " '2691496710334693@zone_air_co2_concentration_sensor': 454,\n",
              " '2691496710334693@zone_air_temperature_sensor': 455,\n",
              " '2691496710334693@supply_air_damper_percentage_command': 456,\n",
              " '2764530915698643@supply_air_flowrate_sensor': 457,\n",
              " '2764530915698643@zone_air_cooling_temperature_setpoint': 458,\n",
              " '2764530915698643@zone_air_heating_temperature_setpoint': 459,\n",
              " '2764530915698643@discharge_air_temperature_sensor': 460,\n",
              " '2764530915698643@supply_air_damper_percentage_command': 461,\n",
              " '2764530915698643@supply_air_flowrate_setpoint': 462,\n",
              " '2764530915698643@discharge_air_temperature_setpoint': 463,\n",
              " '2764530915698643@zone_air_temperature_sensor': 464,\n",
              " '2764530915698643@heating_water_valve_percentage_command': 465,\n",
              " '2658280459967125@supply_air_damper_percentage_command': 466,\n",
              " '2658280459967125@discharge_air_temperature_setpoint': 467,\n",
              " '2658280459967125@zone_air_temperature_sensor': 468,\n",
              " '2658280459967125@zone_air_cooling_temperature_setpoint': 469,\n",
              " '2658280459967125@heating_water_valve_percentage_command': 470,\n",
              " '2658280459967125@discharge_air_temperature_sensor': 471,\n",
              " '2658280459967125@zone_air_heating_temperature_setpoint': 472,\n",
              " '2658280459967125@supply_air_flowrate_sensor': 473,\n",
              " '2658280459967125@supply_air_flowrate_setpoint': 474,\n",
              " '2641439892024140@zone_air_temperature_sensor': 475,\n",
              " '2641439892024140@heating_water_valve_percentage_command': 476,\n",
              " '2641439892024140@discharge_air_temperature_setpoint': 477,\n",
              " '2641439892024140@discharge_air_temperature_sensor': 478,\n",
              " '2641439892024140@zone_air_cooling_temperature_setpoint': 479,\n",
              " '2641439892024140@supply_air_damper_percentage_command': 480,\n",
              " '2641439892024140@supply_air_flowrate_sensor': 481,\n",
              " '2641439892024140@zone_air_heating_temperature_setpoint': 482,\n",
              " '2641439892024140@supply_air_flowrate_setpoint': 483,\n",
              " '8056472028607152128@speed_percentage_command': 484,\n",
              " '8056472028607152128@speed_frequency_sensor': 485,\n",
              " '2795032460499273@zone_air_temperature_sensor': 486,\n",
              " '2795032460499273@supply_air_flowrate_setpoint': 487,\n",
              " '2795032460499273@zone_air_heating_temperature_setpoint': 488,\n",
              " '2795032460499273@zone_air_co2_concentration_sensor': 489,\n",
              " '2795032460499273@supply_air_flowrate_sensor': 490,\n",
              " '2795032460499273@zone_air_co2_concentration_setpoint': 491,\n",
              " '2795032460499273@supply_air_damper_percentage_command': 492,\n",
              " '2795032460499273@zone_air_cooling_temperature_setpoint': 493,\n",
              " '8729789859712991232@supply_water_temperature_sensor': 494,\n",
              " '8804069566750654464@supply_water_temperature_sensor': 495,\n",
              " '8804069566750654464@return_water_temperature_sensor': 496,\n",
              " '2696593986887004@zone_air_heating_temperature_setpoint': 497,\n",
              " '2696593986887004@zone_air_temperature_sensor': 498,\n",
              " '2696593986887004@discharge_air_temperature_sensor': 499,\n",
              " '2696593986887004@supply_air_flowrate_setpoint': 500,\n",
              " '2696593986887004@zone_air_cooling_temperature_setpoint': 501,\n",
              " '2696593986887004@heating_water_valve_percentage_command': 502,\n",
              " '2696593986887004@supply_air_damper_percentage_command': 503,\n",
              " '2696593986887004@supply_air_flowrate_sensor': 504,\n",
              " '2696593986887004@discharge_air_temperature_setpoint': 505,\n",
              " '2728593088050266@supply_air_flowrate_setpoint': 506,\n",
              " '2728593088050266@discharge_air_temperature_sensor': 507,\n",
              " '2728593088050266@discharge_air_temperature_setpoint': 508,\n",
              " '2728593088050266@supply_air_damper_percentage_command': 509,\n",
              " '2728593088050266@heating_water_valve_percentage_command': 510,\n",
              " '2728593088050266@zone_air_heating_temperature_setpoint': 511,\n",
              " '2728593088050266@zone_air_temperature_sensor': 512,\n",
              " '2728593088050266@zone_air_cooling_temperature_setpoint': 513,\n",
              " '2728593088050266@supply_air_flowrate_sensor': 514,\n",
              " '2545072728476481@zone_air_heating_temperature_setpoint': 515,\n",
              " '2545072728476481@heating_water_valve_percentage_command': 516,\n",
              " '2545072728476481@discharge_air_temperature_sensor': 517,\n",
              " '2545072728476481@supply_air_flowrate_sensor': 518,\n",
              " '2545072728476481@zone_air_temperature_sensor': 519,\n",
              " '2545072728476481@supply_air_damper_percentage_command': 520,\n",
              " '2545072728476481@zone_air_cooling_temperature_setpoint': 521,\n",
              " '2545072728476481@supply_air_flowrate_setpoint': 522,\n",
              " '2545072728476481@discharge_air_temperature_setpoint': 523,\n",
              " '2588159730413024@discharge_air_temperature_setpoint': 524,\n",
              " '2588159730413024@zone_air_co2_concentration_setpoint': 525,\n",
              " '2588159730413024@zone_air_cooling_temperature_setpoint': 526,\n",
              " '2588159730413024@supply_air_damper_percentage_command': 527,\n",
              " '2588159730413024@supply_air_flowrate_sensor': 528,\n",
              " '2588159730413024@heating_water_valve_percentage_command': 529,\n",
              " '2588159730413024@supply_air_flowrate_setpoint': 530,\n",
              " '2588159730413024@zone_air_heating_temperature_setpoint': 531,\n",
              " '2588159730413024@zone_air_co2_concentration_sensor': 532,\n",
              " '2588159730413024@discharge_air_temperature_sensor': 533,\n",
              " '2588159730413024@zone_air_temperature_sensor': 534,\n",
              " '2619215732412810@supply_air_flowrate_setpoint': 535,\n",
              " '2619215732412810@heating_water_valve_percentage_command': 536,\n",
              " '2619215732412810@zone_air_heating_temperature_setpoint': 537,\n",
              " '2619215732412810@discharge_air_temperature_setpoint': 538,\n",
              " '2619215732412810@supply_air_damper_percentage_command': 539,\n",
              " '2619215732412810@zone_air_temperature_sensor': 540,\n",
              " '2619215732412810@supply_air_flowrate_sensor': 541,\n",
              " '2619215732412810@discharge_air_temperature_sensor': 542,\n",
              " '2619215732412810@zone_air_cooling_temperature_setpoint': 543,\n",
              " '2812366126877759@zone_air_cooling_temperature_setpoint': 544,\n",
              " '2812366126877759@supply_air_flowrate_setpoint': 545,\n",
              " '2812366126877759@heating_water_valve_percentage_command': 546,\n",
              " '2812366126877759@zone_air_temperature_sensor': 547,\n",
              " '2812366126877759@zone_air_heating_temperature_setpoint': 548,\n",
              " '2812366126877759@supply_air_damper_percentage_command': 549,\n",
              " '2812366126877759@supply_air_flowrate_sensor': 550,\n",
              " '2812366126877759@discharge_air_temperature_setpoint': 551,\n",
              " '2812366126877759@discharge_air_temperature_sensor': 552,\n",
              " '2752553640836480@supply_air_damper_percentage_command': 553,\n",
              " '2752553640836480@supply_air_flowrate_sensor': 554,\n",
              " '2752553640836480@supply_air_flowrate_setpoint': 555,\n",
              " '2752553640836480@zone_air_heating_temperature_setpoint': 556,\n",
              " '2752553640836480@discharge_air_temperature_setpoint': 557,\n",
              " '2752553640836480@zone_air_temperature_sensor': 558,\n",
              " '2752553640836480@discharge_air_temperature_sensor': 559,\n",
              " '2752553640836480@heating_water_valve_percentage_command': 560,\n",
              " '2752553640836480@zone_air_cooling_temperature_setpoint': 561,\n",
              " '2578850932476951@zone_air_cooling_temperature_setpoint': 562,\n",
              " '2578850932476951@discharge_air_temperature_setpoint': 563,\n",
              " '2578850932476951@discharge_air_temperature_sensor': 564,\n",
              " '2578850932476951@supply_air_flowrate_setpoint': 565,\n",
              " '2578850932476951@zone_air_heating_temperature_setpoint': 566,\n",
              " '2578850932476951@supply_air_flowrate_sensor': 567,\n",
              " '2578850932476951@heating_water_valve_percentage_command': 568,\n",
              " '2578850932476951@supply_air_damper_percentage_command': 569,\n",
              " '2578850932476951@zone_air_temperature_sensor': 570,\n",
              " '2613479607618585@supply_air_flowrate_sensor': 571,\n",
              " '2613479607618585@zone_air_temperature_sensor': 572,\n",
              " '2613479607618585@supply_air_flowrate_setpoint': 573,\n",
              " '2613479607618585@zone_air_co2_concentration_setpoint': 574,\n",
              " '2613479607618585@zone_air_co2_concentration_sensor': 575,\n",
              " '2613479607618585@supply_air_damper_percentage_command': 576,\n",
              " '2613479607618585@zone_air_heating_temperature_setpoint': 577,\n",
              " '2613479607618585@zone_air_cooling_temperature_setpoint': 578,\n",
              " '2725518459642243@zone_air_temperature_sensor': 579,\n",
              " '2725518459642243@zone_air_heating_temperature_setpoint': 580,\n",
              " '2725518459642243@zone_air_cooling_temperature_setpoint': 581,\n",
              " '2725518459642243@supply_air_damper_percentage_command': 582,\n",
              " '2725518459642243@discharge_air_temperature_sensor': 583,\n",
              " '2725518459642243@supply_air_flowrate_sensor': 584,\n",
              " '2725518459642243@heating_water_valve_percentage_command': 585,\n",
              " '2725518459642243@supply_air_flowrate_setpoint': 586,\n",
              " '2725518459642243@discharge_air_temperature_setpoint': 587,\n",
              " '10344300639311364096@supply_air_damper_percentage_command': 588,\n",
              " '10344300639311364096@supply_air_flowrate_sensor': 589,\n",
              " '10344300639311364096@supply_air_flowrate_setpoint': 590,\n",
              " '2782657836669444@zone_air_temperature_sensor': 591,\n",
              " '2782657836669444@supply_air_flowrate_setpoint': 592,\n",
              " '2782657836669444@discharge_air_temperature_setpoint': 593,\n",
              " '2782657836669444@discharge_air_temperature_sensor': 594,\n",
              " '2782657836669444@zone_air_heating_temperature_setpoint': 595,\n",
              " '2782657836669444@supply_air_damper_percentage_command': 596,\n",
              " '2782657836669444@supply_air_flowrate_sensor': 597,\n",
              " '2782657836669444@zone_air_cooling_temperature_setpoint': 598,\n",
              " '2782657836669444@heating_water_valve_percentage_command': 599,\n",
              " '2739555701122103@zone_air_heating_temperature_setpoint': 600,\n",
              " '2739555701122103@supply_air_flowrate_setpoint': 601,\n",
              " '2739555701122103@discharge_air_temperature_sensor': 602,\n",
              " '2739555701122103@zone_air_cooling_temperature_setpoint': 603,\n",
              " '2739555701122103@zone_air_temperature_sensor': 604,\n",
              " '2739555701122103@heating_water_valve_percentage_command': 605,\n",
              " '2739555701122103@supply_air_flowrate_sensor': 606,\n",
              " '2739555701122103@discharge_air_temperature_setpoint': 607,\n",
              " '2739555701122103@supply_air_damper_percentage_command': 608,\n",
              " '2786127182232356@zone_air_temperature_sensor': 609,\n",
              " '2786127182232356@supply_air_damper_percentage_command': 610,\n",
              " '2786127182232356@supply_air_flowrate_setpoint': 611,\n",
              " '2786127182232356@zone_air_cooling_temperature_setpoint': 612,\n",
              " '2786127182232356@zone_air_heating_temperature_setpoint': 613,\n",
              " '2786127182232356@discharge_air_temperature_sensor': 614,\n",
              " '2786127182232356@discharge_air_temperature_setpoint': 615,\n",
              " '2786127182232356@supply_air_flowrate_sensor': 616,\n",
              " '2786127182232356@heating_water_valve_percentage_command': 617,\n",
              " '2607380776570984@supply_air_flowrate_setpoint': 618,\n",
              " '2607380776570984@supply_air_damper_percentage_command': 619,\n",
              " '2607380776570984@discharge_air_temperature_sensor': 620,\n",
              " '2607380776570984@zone_air_heating_temperature_setpoint': 621,\n",
              " '2607380776570984@heating_water_valve_percentage_command': 622,\n",
              " '2607380776570984@zone_air_temperature_sensor': 623,\n",
              " '2607380776570984@supply_air_flowrate_sensor': 624,\n",
              " '2607380776570984@discharge_air_temperature_setpoint': 625,\n",
              " '2607380776570984@zone_air_cooling_temperature_setpoint': 626,\n",
              " '2811944693103115@discharge_air_temperature_setpoint': 627,\n",
              " '2811944693103115@zone_air_temperature_sensor': 628,\n",
              " '2811944693103115@zone_air_heating_temperature_setpoint': 629,\n",
              " '2811944693103115@zone_air_cooling_temperature_setpoint': 630,\n",
              " '2811944693103115@heating_water_valve_percentage_command': 631,\n",
              " '2811944693103115@discharge_air_temperature_sensor': 632,\n",
              " '2811944693103115@supply_air_flowrate_sensor': 633,\n",
              " '2811944693103115@supply_air_damper_percentage_command': 634,\n",
              " '2811944693103115@supply_air_flowrate_setpoint': 635,\n",
              " '2627283060405570@zone_air_cooling_temperature_setpoint': 636,\n",
              " '2627283060405570@zone_air_temperature_sensor': 637,\n",
              " '2627283060405570@zone_air_heating_temperature_setpoint': 638,\n",
              " '2627283060405570@heating_water_valve_percentage_command': 639,\n",
              " '2627283060405570@supply_air_flowrate_setpoint': 640,\n",
              " '2627283060405570@supply_air_damper_percentage_command': 641,\n",
              " '2627283060405570@discharge_air_temperature_setpoint': 642,\n",
              " '2627283060405570@discharge_air_temperature_sensor': 643,\n",
              " '2627283060405570@supply_air_flowrate_sensor': 644,\n",
              " '2558614727946404@supply_air_damper_percentage_command': 645,\n",
              " '2558614727946404@zone_air_heating_temperature_setpoint': 646,\n",
              " '2558614727946404@supply_air_flowrate_sensor': 647,\n",
              " '2558614727946404@discharge_air_temperature_sensor': 648,\n",
              " '2558614727946404@heating_water_valve_percentage_command': 649,\n",
              " '2558614727946404@zone_air_temperature_sensor': 650,\n",
              " '2558614727946404@zone_air_cooling_temperature_setpoint': 651,\n",
              " '2558614727946404@supply_air_flowrate_setpoint': 652,\n",
              " '2558614727946404@discharge_air_temperature_setpoint': 653,\n",
              " '2680684754684585@zone_air_co2_concentration_setpoint': 654,\n",
              " '2680684754684585@discharge_air_temperature_sensor': 655,\n",
              " '2680684754684585@supply_air_damper_percentage_command': 656,\n",
              " '2680684754684585@heating_water_valve_percentage_command': 657,\n",
              " '2680684754684585@discharge_air_temperature_setpoint': 658,\n",
              " '2680684754684585@supply_air_flowrate_sensor': 659,\n",
              " '2680684754684585@zone_air_heating_temperature_setpoint': 660,\n",
              " '2680684754684585@zone_air_co2_concentration_sensor': 661,\n",
              " '2680684754684585@zone_air_temperature_sensor': 662,\n",
              " '2680684754684585@supply_air_flowrate_setpoint': 663,\n",
              " '2680684754684585@zone_air_cooling_temperature_setpoint': 664,\n",
              " '2607531467124107@heating_water_valve_percentage_command': 665,\n",
              " '2607531467124107@zone_air_cooling_temperature_setpoint': 666,\n",
              " '2607531467124107@supply_air_damper_percentage_command': 667,\n",
              " '2607531467124107@discharge_air_temperature_setpoint': 668,\n",
              " '2607531467124107@zone_air_temperature_sensor': 669,\n",
              " '2607531467124107@supply_air_flowrate_sensor': 670,\n",
              " '2607531467124107@supply_air_flowrate_setpoint': 671,\n",
              " '2607531467124107@zone_air_heating_temperature_setpoint': 672,\n",
              " '2607531467124107@discharge_air_temperature_sensor': 673,\n",
              " '2656411871653032@supply_air_damper_percentage_command': 674,\n",
              " '2656411871653032@supply_air_flowrate_setpoint': 675,\n",
              " '2656411871653032@zone_air_heating_temperature_setpoint': 676,\n",
              " '2656411871653032@supply_air_flowrate_sensor': 677,\n",
              " '2656411871653032@zone_air_cooling_temperature_setpoint': 678,\n",
              " '2656411871653032@zone_air_temperature_sensor': 679,\n",
              " '2656411871653032@zone_air_co2_concentration_sensor': 680,\n",
              " '2656411871653032@zone_air_co2_concentration_setpoint': 681,\n",
              " '11251805651040468992@supply_water_temperature_sensor': 682,\n",
              " '2603432823050217@discharge_air_temperature_setpoint': 683,\n",
              " '2603432823050217@zone_air_cooling_temperature_setpoint': 684,\n",
              " '2603432823050217@supply_air_flowrate_setpoint': 685,\n",
              " '2603432823050217@heating_water_valve_percentage_command': 686,\n",
              " '2603432823050217@zone_air_temperature_sensor': 687,\n",
              " '2603432823050217@zone_air_heating_temperature_setpoint': 688,\n",
              " '2603432823050217@supply_air_damper_percentage_command': 689,\n",
              " '2603432823050217@supply_air_flowrate_sensor': 690,\n",
              " '2603432823050217@discharge_air_temperature_sensor': 691,\n",
              " '2684906181773151@heating_water_valve_percentage_command': 692,\n",
              " '2684906181773151@supply_air_damper_percentage_command': 693,\n",
              " '2684906181773151@zone_air_co2_concentration_setpoint': 694,\n",
              " '2684906181773151@zone_air_temperature_sensor': 695,\n",
              " '2684906181773151@discharge_air_temperature_sensor': 696,\n",
              " '2684906181773151@zone_air_cooling_temperature_setpoint': 697,\n",
              " '2684906181773151@supply_air_flowrate_setpoint': 698,\n",
              " '2684906181773151@zone_air_co2_concentration_sensor': 699,\n",
              " '2684906181773151@discharge_air_temperature_setpoint': 700,\n",
              " '2684906181773151@supply_air_flowrate_sensor': 701,\n",
              " '2684906181773151@zone_air_heating_temperature_setpoint': 702,\n",
              " '2590610591373965@zone_air_heating_temperature_setpoint': 703,\n",
              " '2590610591373965@supply_air_flowrate_sensor': 704,\n",
              " '2590610591373965@supply_air_flowrate_setpoint': 705,\n",
              " '2590610591373965@zone_air_cooling_temperature_setpoint': 706,\n",
              " '2590610591373965@discharge_air_temperature_setpoint': 707,\n",
              " '2590610591373965@discharge_air_temperature_sensor': 708,\n",
              " '2590610591373965@zone_air_temperature_sensor': 709,\n",
              " '2590610591373965@heating_water_valve_percentage_command': 710,\n",
              " '2590610591373965@supply_air_damper_percentage_command': 711,\n",
              " '2776979270669786@zone_air_heating_temperature_setpoint': 712,\n",
              " '2776979270669786@supply_air_damper_percentage_command': 713,\n",
              " '2776979270669786@supply_air_flowrate_setpoint': 714,\n",
              " '2776979270669786@discharge_air_temperature_sensor': 715,\n",
              " '2776979270669786@heating_water_valve_percentage_command': 716,\n",
              " '2776979270669786@zone_air_cooling_temperature_setpoint': 717,\n",
              " '2776979270669786@zone_air_temperature_sensor': 718,\n",
              " '2776979270669786@supply_air_flowrate_sensor': 719,\n",
              " '2776979270669786@discharge_air_temperature_setpoint': 720,\n",
              " '2622037806906769@discharge_air_temperature_setpoint': 721,\n",
              " '2622037806906769@zone_air_temperature_sensor': 722,\n",
              " '2622037806906769@supply_air_damper_percentage_command': 723,\n",
              " '2622037806906769@heating_water_valve_percentage_command': 724,\n",
              " '2622037806906769@zone_air_cooling_temperature_setpoint': 725,\n",
              " '2622037806906769@zone_air_heating_temperature_setpoint': 726,\n",
              " '2622037806906769@supply_air_flowrate_sensor': 727,\n",
              " '2622037806906769@discharge_air_temperature_sensor': 728,\n",
              " '2622037806906769@supply_air_flowrate_setpoint': 729,\n",
              " '2560929853112707@supply_air_damper_percentage_command': 730,\n",
              " '2560929853112707@zone_air_heating_temperature_setpoint': 731,\n",
              " '2560929853112707@heating_water_valve_percentage_command': 732,\n",
              " '2560929853112707@supply_air_flowrate_setpoint': 733,\n",
              " '2560929853112707@discharge_air_temperature_sensor': 734,\n",
              " '2560929853112707@zone_air_temperature_sensor': 735,\n",
              " '2560929853112707@zone_air_cooling_temperature_setpoint': 736,\n",
              " '2560929853112707@discharge_air_temperature_setpoint': 737,\n",
              " '2560929853112707@supply_air_flowrate_sensor': 738,\n",
              " '2703938812282949@zone_air_heating_temperature_setpoint': 739,\n",
              " '2703938812282949@supply_air_flowrate_setpoint': 740,\n",
              " '2703938812282949@supply_air_damper_percentage_command': 741,\n",
              " '2703938812282949@zone_air_temperature_sensor': 742,\n",
              " '2703938812282949@discharge_air_temperature_setpoint': 743,\n",
              " '2703938812282949@discharge_air_temperature_sensor': 744,\n",
              " '2703938812282949@heating_water_valve_percentage_command': 745,\n",
              " '2703938812282949@zone_air_cooling_temperature_setpoint': 746,\n",
              " '2703938812282949@supply_air_flowrate_sensor': 747,\n",
              " '2580869304551907@zone_air_heating_temperature_setpoint': 748,\n",
              " '2580869304551907@zone_air_cooling_temperature_setpoint': 749,\n",
              " '2580869304551907@supply_air_flowrate_setpoint': 750,\n",
              " '2580869304551907@supply_air_flowrate_sensor': 751,\n",
              " '2580869304551907@zone_air_temperature_sensor': 752,\n",
              " '2580869304551907@heating_water_valve_percentage_command': 753,\n",
              " '2580869304551907@discharge_air_temperature_sensor': 754,\n",
              " '2580869304551907@discharge_air_temperature_setpoint': 755,\n",
              " '2580869304551907@supply_air_damper_percentage_command': 756,\n",
              " '2599277484308959@zone_air_heating_temperature_setpoint': 757,\n",
              " '2599277484308959@zone_air_co2_concentration_sensor': 758,\n",
              " '2599277484308959@zone_air_temperature_sensor': 759,\n",
              " '2599277484308959@supply_air_damper_percentage_command': 760,\n",
              " '2599277484308959@zone_air_co2_concentration_setpoint': 761,\n",
              " '2599277484308959@supply_air_flowrate_setpoint': 762,\n",
              " '2599277484308959@zone_air_cooling_temperature_setpoint': 763,\n",
              " '2599277484308959@supply_air_flowrate_sensor': 764,\n",
              " '2792898514969792@zone_air_cooling_temperature_setpoint': 765,\n",
              " '2792898514969792@discharge_air_temperature_setpoint': 766,\n",
              " '2792898514969792@supply_air_damper_percentage_command': 767,\n",
              " '2792898514969792@zone_air_heating_temperature_setpoint': 768,\n",
              " '2792898514969792@supply_air_flowrate_sensor': 769,\n",
              " '2792898514969792@zone_air_temperature_sensor': 770,\n",
              " '2792898514969792@heating_water_valve_percentage_command': 771,\n",
              " '2792898514969792@discharge_air_temperature_sensor': 772,\n",
              " '2792898514969792@supply_air_flowrate_setpoint': 773,\n",
              " '2726572904605154@zone_air_co2_concentration_setpoint': 774,\n",
              " '2726572904605154@supply_air_damper_percentage_command': 775,\n",
              " '2726572904605154@zone_air_cooling_temperature_setpoint': 776,\n",
              " '2726572904605154@zone_air_heating_temperature_setpoint': 777,\n",
              " '2726572904605154@supply_air_flowrate_sensor': 778,\n",
              " '2726572904605154@zone_air_co2_concentration_sensor': 779,\n",
              " '2726572904605154@supply_air_flowrate_setpoint': 780,\n",
              " '2726572904605154@zone_air_temperature_sensor': 781,\n",
              " '2605375500053318@zone_air_cooling_temperature_setpoint': 782,\n",
              " '2605375500053318@zone_air_heating_temperature_setpoint': 783,\n",
              " '2605375500053318@supply_air_flowrate_sensor': 784,\n",
              " '2605375500053318@supply_air_flowrate_setpoint': 785,\n",
              " '2605375500053318@discharge_air_temperature_setpoint': 786,\n",
              " '2605375500053318@heating_water_valve_percentage_command': 787,\n",
              " '2605375500053318@discharge_air_temperature_sensor': 788,\n",
              " '2605375500053318@zone_air_temperature_sensor': 789,\n",
              " '2605375500053318@supply_air_damper_percentage_command': 790,\n",
              " '2734562572216344@supply_air_damper_percentage_command': 791,\n",
              " '2734562572216344@supply_air_flowrate_setpoint': 792,\n",
              " '2734562572216344@heating_water_valve_percentage_command': 793,\n",
              " '2734562572216344@zone_air_heating_temperature_setpoint': 794,\n",
              " '2734562572216344@zone_air_cooling_temperature_setpoint': 795,\n",
              " '2734562572216344@zone_air_temperature_sensor': 796,\n",
              " '2734562572216344@supply_air_flowrate_sensor': 797,\n",
              " '2734562572216344@discharge_air_temperature_sensor': 798,\n",
              " '2734562572216344@discharge_air_temperature_setpoint': 799,\n",
              " '2715399727027143@discharge_air_temperature_sensor': 800,\n",
              " '2715399727027143@supply_air_damper_percentage_command': 801,\n",
              " '2715399727027143@zone_air_temperature_sensor': 802,\n",
              " '2715399727027143@supply_air_flowrate_setpoint': 803,\n",
              " '2715399727027143@zone_air_cooling_temperature_setpoint': 804,\n",
              " '2715399727027143@zone_air_heating_temperature_setpoint': 805,\n",
              " '2715399727027143@heating_water_valve_percentage_command': 806,\n",
              " '2715399727027143@discharge_air_temperature_setpoint': 807,\n",
              " '2746959064186014@discharge_air_temperature_setpoint': 808,\n",
              " '2746959064186014@supply_air_damper_percentage_command': 809,\n",
              " '2746959064186014@supply_air_flowrate_setpoint': 810,\n",
              " '2746959064186014@zone_air_temperature_sensor': 811,\n",
              " '2746959064186014@zone_air_heating_temperature_setpoint': 812,\n",
              " '2746959064186014@discharge_air_temperature_sensor': 813,\n",
              " '2746959064186014@zone_air_cooling_temperature_setpoint': 814,\n",
              " '2746959064186014@supply_air_flowrate_sensor': 815,\n",
              " '2746959064186014@heating_water_valve_percentage_command': 816,\n",
              " '12945159110931775488@supply_air_static_pressure_sensor': 817,\n",
              " '12945159110931775488@supply_fan_speed_percentage_command': 818,\n",
              " '12945159110931775488@supervisor_supply_air_static_pressure_setpoint': 819,\n",
              " '12945159110931775488@exhaust_air_damper_percentage_sensor': 820,\n",
              " '12945159110931775488@building_air_static_pressure_sensor': 821,\n",
              " '12945159110931775488@mixed_air_temperature_sensor': 822,\n",
              " '12945159110931775488@return_air_temperature_sensor': 823,\n",
              " '12945159110931775488@supervisor_supply_air_temperature_setpoint': 824,\n",
              " '12945159110931775488@program_supply_air_static_pressure_setpoint': 825,\n",
              " '12945159110931775488@supply_fan_speed_frequency_sensor': 826,\n",
              " '12945159110931775488@building_air_static_pressure_setpoint': 827,\n",
              " '12945159110931775488@mixed_air_temperature_setpoint': 828,\n",
              " '12945159110931775488@outside_air_damper_percentage_command': 829,\n",
              " '12945159110931775488@outside_air_flowrate_setpoint': 830,\n",
              " '12945159110931775488@outside_air_flowrate_sensor': 831,\n",
              " '12945159110931775488@program_supply_air_temperature_setpoint': 832,\n",
              " '12945159110931775488@supply_fan_run_status': 833,\n",
              " '12945159110931775488@cooling_percentage_command': 834,\n",
              " '12945159110931775488@exhaust_fan_speed_percentage_command': 835,\n",
              " '12945159110931775488@supply_air_static_pressure_setpoint': 836,\n",
              " '12945159110931775488@supply_air_temperature_setpoint': 837,\n",
              " '12945159110931775488@exhaust_air_damper_percentage_command': 838,\n",
              " '12945159110931775488@exhaust_fan_speed_frequency_sensor': 839,\n",
              " '12945159110931775488@supply_air_temperature_sensor': 840,\n",
              " '2698594043420456@heating_water_valve_percentage_command': 841,\n",
              " '2698594043420456@supply_air_flowrate_setpoint': 842,\n",
              " '2698594043420456@discharge_air_temperature_setpoint': 843,\n",
              " '2698594043420456@zone_air_temperature_sensor': 844,\n",
              " '2698594043420456@zone_air_co2_concentration_sensor': 845,\n",
              " '2698594043420456@zone_air_cooling_temperature_setpoint': 846,\n",
              " '2698594043420456@discharge_air_temperature_sensor': 847,\n",
              " '2698594043420456@zone_air_co2_concentration_setpoint': 848,\n",
              " '2698594043420456@zone_air_heating_temperature_setpoint': 849,\n",
              " '2698594043420456@supply_air_damper_percentage_command': 850,\n",
              " '2698594043420456@supply_air_flowrate_sensor': 851,\n",
              " '2779757898406144@supply_air_damper_percentage_command': 852,\n",
              " '2779757898406144@heating_water_valve_percentage_command': 853,\n",
              " '2779757898406144@discharge_air_temperature_sensor': 854,\n",
              " '2779757898406144@discharge_air_temperature_setpoint': 855,\n",
              " '2779757898406144@zone_air_heating_temperature_setpoint': 856,\n",
              " '2779757898406144@zone_air_cooling_temperature_setpoint': 857,\n",
              " '2779757898406144@zone_air_temperature_sensor': 858,\n",
              " '2779757898406144@supply_air_flowrate_setpoint': 859,\n",
              " '2779757898406144@supply_air_flowrate_sensor': 860,\n",
              " '2667818838237334@zone_air_temperature_sensor': 861,\n",
              " '2667818838237334@supply_air_damper_percentage_command': 862,\n",
              " '2667818838237334@zone_air_heating_temperature_setpoint': 863,\n",
              " '2667818838237334@discharge_air_temperature_setpoint': 864,\n",
              " '2667818838237334@heating_water_valve_percentage_command': 865,\n",
              " '2667818838237334@supply_air_flowrate_sensor': 866,\n",
              " '2667818838237334@zone_air_cooling_temperature_setpoint': 867,\n",
              " '2667818838237334@discharge_air_temperature_sensor': 868,\n",
              " '2667818838237334@supply_air_flowrate_setpoint': 869,\n",
              " '2577372819803107@zone_air_co2_concentration_sensor': 870,\n",
              " '2577372819803107@supply_air_flowrate_sensor': 871,\n",
              " '2577372819803107@zone_air_cooling_temperature_setpoint': 872,\n",
              " '2577372819803107@zone_air_temperature_sensor': 873,\n",
              " '2577372819803107@supply_air_damper_percentage_command': 874,\n",
              " '2577372819803107@zone_air_heating_temperature_setpoint': 875,\n",
              " '2577372819803107@zone_air_co2_concentration_setpoint': 876,\n",
              " '2577372819803107@supply_air_flowrate_setpoint': 877,\n",
              " '13761436543392677888@supervisor_supply_water_temperature_setpoint': 878,\n",
              " '13761436543392677888@differential_pressure_setpoint': 879,\n",
              " '13761436543392677888@supply_water_temperature_sensor': 880,\n",
              " '13761436543392677888@return_water_temperature_sensor': 881,\n",
              " '13761436543392677888@supply_water_temperature_setpoint': 882,\n",
              " '13761436543392677888@differential_pressure_sensor': 883,\n",
              " '13761436543392677888@program_differential_pressure_setpoint': 884,\n",
              " '13761436543392677888@program_supply_water_temperature_setpoint': 885,\n",
              " '13881907833424838656@speed_percentage_command': 886,\n",
              " '13881907833424838656@run_status': 887,\n",
              " '13881907833424838656@speed_frequency_sensor': 888,\n",
              " '2657554847589841@zone_air_heating_temperature_setpoint': 889,\n",
              " '2657554847589841@zone_air_cooling_temperature_setpoint': 890,\n",
              " '2657554847589841@supply_air_flowrate_sensor': 891,\n",
              " '2657554847589841@zone_air_temperature_sensor': 892,\n",
              " '2657554847589841@supply_air_flowrate_setpoint': 893,\n",
              " '2657554847589841@discharge_air_temperature_setpoint': 894,\n",
              " '2657554847589841@supply_air_damper_percentage_command': 895,\n",
              " '2657554847589841@discharge_air_temperature_sensor': 896,\n",
              " '2657554847589841@heating_water_valve_percentage_command': 897,\n",
              " '14409954889734029312@mixed_air_temperature_setpoint': 898,\n",
              " '14409954889734029312@program_supply_air_static_pressure_setpoint': 899,\n",
              " '14409954889734029312@exhaust_fan_speed_percentage_command': 900,\n",
              " '14409954889734029312@return_air_temperature_sensor': 901,\n",
              " '14409954889734029312@supply_air_temperature_sensor': 902,\n",
              " '14409954889734029312@supervisor_supply_air_static_pressure_setpoint': 903,\n",
              " '14409954889734029312@supply_fan_speed_percentage_command': 904,\n",
              " '14409954889734029312@building_air_static_pressure_setpoint': 905,\n",
              " '14409954889734029312@supply_air_static_pressure_setpoint': 906,\n",
              " '14409954889734029312@mixed_air_temperature_sensor': 907,\n",
              " '14409954889734029312@exhaust_air_damper_percentage_sensor': 908,\n",
              " '14409954889734029312@outside_air_damper_percentage_command': 909,\n",
              " '14409954889734029312@supply_fan_run_status': 910,\n",
              " '14409954889734029312@cooling_percentage_command': 911,\n",
              " '14409954889734029312@exhaust_air_damper_percentage_command': 912,\n",
              " '14409954889734029312@exhaust_fan_speed_frequency_sensor': 913,\n",
              " '14409954889734029312@supply_fan_speed_frequency_sensor': 914,\n",
              " '14409954889734029312@program_supply_air_temperature_setpoint': 915,\n",
              " '14409954889734029312@supervisor_supply_air_temperature_setpoint': 916,\n",
              " '14409954889734029312@supply_air_temperature_setpoint': 917,\n",
              " '14409954889734029312@outside_air_flowrate_sensor': 918,\n",
              " '14409954889734029312@supply_air_static_pressure_sensor': 919,\n",
              " '14409954889734029312@outside_air_flowrate_setpoint': 920,\n",
              " '14409954889734029312@building_air_static_pressure_sensor': 921,\n",
              " '2736579912341782@supply_air_flowrate_setpoint': 922,\n",
              " '2736579912341782@supply_air_flowrate_sensor': 923,\n",
              " '2736579912341782@zone_air_heating_temperature_setpoint': 924,\n",
              " '2736579912341782@zone_air_cooling_temperature_setpoint': 925,\n",
              " '2736579912341782@zone_air_temperature_sensor': 926,\n",
              " '2736579912341782@supply_air_damper_percentage_command': 927,\n",
              " '2703995402831823@supply_air_damper_percentage_command': 928,\n",
              " '2703995402831823@discharge_air_temperature_setpoint': 929,\n",
              " '2703995402831823@heating_water_valve_percentage_command': 930,\n",
              " '2703995402831823@zone_air_heating_temperature_setpoint': 931,\n",
              " '2703995402831823@zone_air_cooling_temperature_setpoint': 932,\n",
              " '2703995402831823@supply_air_flowrate_sensor': 933,\n",
              " '2703995402831823@discharge_air_temperature_sensor': 934,\n",
              " '2703995402831823@supply_air_flowrate_setpoint': 935,\n",
              " '2703995402831823@zone_air_temperature_sensor': 936,\n",
              " '2758068039436455@zone_air_cooling_temperature_setpoint': 937,\n",
              " '2758068039436455@zone_air_temperature_sensor': 938,\n",
              " '2758068039436455@supply_air_flowrate_setpoint': 939,\n",
              " '2758068039436455@supply_air_flowrate_sensor': 940,\n",
              " '2758068039436455@zone_air_heating_temperature_setpoint': 941,\n",
              " '2758068039436455@supply_air_damper_percentage_command': 942,\n",
              " '2712344453081531@discharge_air_temperature_setpoint': 943,\n",
              " '2712344453081531@supply_air_flowrate_sensor': 944,\n",
              " '2712344453081531@zone_air_temperature_sensor': 945,\n",
              " '2712344453081531@zone_air_cooling_temperature_setpoint': 946,\n",
              " '2712344453081531@heating_water_valve_percentage_command': 947,\n",
              " '2712344453081531@supply_air_flowrate_setpoint': 948,\n",
              " '2712344453081531@zone_air_heating_temperature_setpoint': 949,\n",
              " '2712344453081531@discharge_air_temperature_sensor': 950,\n",
              " '2712344453081531@supply_air_damper_percentage_command': 951,\n",
              " '14955986657738752000@supply_water_temperature_sensor': 952,\n",
              " '14955986657738752000@return_water_temperature_sensor': 953,\n",
              " '2555387941965464@heating_water_valve_percentage_command': 954,\n",
              " '2555387941965464@zone_air_heating_temperature_setpoint': 955,\n",
              " '2555387941965464@supply_air_flowrate_setpoint': 956,\n",
              " '2555387941965464@supply_air_damper_percentage_command': 957,\n",
              " '2555387941965464@zone_air_temperature_sensor': 958,\n",
              " '2555387941965464@discharge_air_temperature_sensor': 959,\n",
              " '2555387941965464@supply_air_flowrate_sensor': 960,\n",
              " '2555387941965464@discharge_air_temperature_setpoint': 961,\n",
              " '2555387941965464@zone_air_cooling_temperature_setpoint': 962,\n",
              " '2683563351071572@zone_air_co2_concentration_setpoint': 963,\n",
              " '2683563351071572@supply_air_flowrate_setpoint': 964,\n",
              " '2683563351071572@zone_air_co2_concentration_sensor': 965,\n",
              " '2683563351071572@supply_air_flowrate_sensor': 966,\n",
              " '2683563351071572@supply_air_damper_percentage_command': 967,\n",
              " '2683563351071572@zone_air_heating_temperature_setpoint': 968,\n",
              " '2683563351071572@zone_air_cooling_temperature_setpoint': 969,\n",
              " '2683563351071572@zone_air_temperature_sensor': 970,\n",
              " '2706839052470546@supply_air_damper_percentage_command': 971,\n",
              " '2706839052470546@zone_air_cooling_temperature_setpoint': 972,\n",
              " '2706839052470546@supply_air_flowrate_sensor': 973,\n",
              " '2706839052470546@supply_air_flowrate_setpoint': 974,\n",
              " '2706839052470546@zone_air_temperature_sensor': 975,\n",
              " '2706839052470546@heating_water_valve_percentage_command': 976,\n",
              " '2706839052470546@zone_air_heating_temperature_setpoint': 977,\n",
              " '2706839052470546@discharge_air_temperature_setpoint': 978,\n",
              " '2706839052470546@discharge_air_temperature_sensor': 979,\n",
              " '2749879183751781@zone_air_heating_temperature_setpoint': 980,\n",
              " '2749879183751781@supply_air_flowrate_sensor': 981,\n",
              " '2749879183751781@supply_air_damper_percentage_command': 982,\n",
              " '2749879183751781@zone_air_co2_concentration_sensor': 983,\n",
              " '2749879183751781@zone_air_cooling_temperature_setpoint': 984,\n",
              " '2749879183751781@zone_air_co2_concentration_setpoint': 985,\n",
              " '2749879183751781@zone_air_temperature_sensor': 986,\n",
              " '2749879183751781@supply_air_flowrate_setpoint': 987,\n",
              " '2620112368775269@supply_air_flowrate_sensor': 988,\n",
              " '2620112368775269@supply_air_flowrate_setpoint': 989,\n",
              " '2620112368775269@zone_air_temperature_sensor': 990,\n",
              " '2620112368775269@supply_air_damper_percentage_command': 991,\n",
              " '2620112368775269@discharge_air_temperature_setpoint': 992,\n",
              " '2620112368775269@discharge_air_temperature_sensor': 993,\n",
              " '2620112368775269@zone_air_cooling_temperature_setpoint': 994,\n",
              " '2620112368775269@zone_air_heating_temperature_setpoint': 995,\n",
              " '2620112368775269@heating_water_valve_percentage_command': 996,\n",
              " '2807442344300820@supply_air_damper_percentage_command': 997,\n",
              " '2807442344300820@discharge_air_temperature_setpoint': 998,\n",
              " '2807442344300820@discharge_air_temperature_sensor': 999,\n",
              " ...}"
            ]
          },
          "execution_count": 8,
          "metadata": {},
          "output_type": "execute_result"
        }
      ],
      "source": [
        "metadata[\"observation_ids\"]"
      ]
    },
    {
      "cell_type": "code",
      "execution_count": 9,
      "metadata": {
        "colab": {
          "base_uri": "https://localhost:8080/"
        },
        "id": "fEzyLQZOEVvE",
        "outputId": "32a670c5-cd74-4163-ce1f-cc2ab115ac0c"
      },
      "outputs": [
        {
          "data": {
            "text/plain": [
              "(123,)"
            ]
          },
          "execution_count": 9,
          "metadata": {},
          "output_type": "execute_result"
        }
      ],
      "source": [
        "initial_condition.shape"
      ]
    },
    {
      "cell_type": "code",
      "execution_count": 10,
      "metadata": {
        "colab": {
          "base_uri": "https://localhost:8080/",
          "height": 433
        },
        "id": "sUIvRCpxFw2z",
        "outputId": "d16ee400-9570-4d53-b823-578ffe83c092"
      },
      "outputs": [
        {
          "data": {
            "image/png": "[encoded data removed]",
            "text/plain": [
              "<Figure size 640x480 with 1 Axes>"
            ]
          },
          "metadata": {},
          "output_type": "display_data"
        }
      ],
      "source": [
        "from matplotlib import pyplot as plt\n",
        "plt.imshow(floorplan, interpolation='nearest')\n",
        "plt.show()"
      ]
    },
    {
      "cell_type": "code",
      "execution_count": 11,
      "metadata": {
        "colab": {
          "base_uri": "https://localhost:8080/"
        },
        "id": "i-v_IlvlG6tG",
        "outputId": "635feb09-d375-458c-996d-1c61af83bd42"
      },
      "outputs": [
        {
          "data": {
            "text/plain": [
              "dict_keys(['exterior_space', '1-13', '1-21', '1-46', '1-29', '1-12', '1-20', '1-22', '1-25', '1-28', '1-23', '1-26', '1-15', '1-14', '', '1-17', '1-32', '1-44', '1-43', '1-27', '1-18', '1-16', '1-31', '1-11', '1-10', '1-52', '1-50', '1-19', '1-47', '1-33', '1-09', '1-30', '1-08', '1-07', '1-48', '1-51', '1-34', '1-05', '1-42', '1-53', '1-39', '1-35', '1-04', '1-54', '1-37', '1-03', '1-36', '1-02', '1-55', '1-40', '2-19', '2-20', '2-21', '2-12', '2-22', '2-23', '2-27', '2-28', '2-42', '2-30', '2-31', '2-32', '2-24', '2-25', '2-26', '2-38', '2-33', '2-43', '2-39', '2-16', '2-18', '2-14', '2-40', '2-34', '2-64', '2-13', '2-10', '2-17', '2-37', '2-57', '2-44', '2-5', '2-9', '2-36', '2-8', '2-15', '2-61', '2-46', '2-35', '2-47', '2-7', '2-72', '2-60', '2-48', '2-6', '2-49', '2-65', '2-45', '2-50', '2-4', '2-3', '2-66', '2-59', '2-2', '2-51', '2-58', '2-68', '2-69', '2-67', '2-56', '2-1', '2-71', '2-70', '2-55', '2-54', '2-53', 'unrecognized'])"
            ]
          },
          "execution_count": 11,
          "metadata": {},
          "output_type": "execute_result"
        }
      ],
      "source": [
        "device_layout_map.keys()"
      ]
    },
    {
      "cell_type": "code",
      "execution_count": 12,
      "metadata": {
        "colab": {
          "base_uri": "https://localhost:8080/"
        },
        "id": "zwmNVQ6VMG1c",
        "outputId": "811dc28f-5cc1-42a0-b2eb-c43ddde97058"
      },
      "outputs": [
        {
          "data": {
            "text/plain": [
              "(53292, 123)"
            ]
          },
          "execution_count": 12,
          "metadata": {},
          "output_type": "execute_result"
        }
      ],
      "source": [
        "temp_data.shape"
      ]
    },
    {
      "cell_type": "markdown",
      "metadata": {
        "id": "P9TN0ZlmmIsz"
      },
      "source": [
        "## Dataset Configuration for Models\n"
      ]
    },
    {
      "cell_type": "markdown",
      "metadata": {
        "id": "pVicLqlMs_co"
      },
      "source": [
        "### Extract the Desired Data Fields"
      ]
    },
    {
      "cell_type": "code",
      "execution_count": 13,
      "metadata": {
        "id": "hhjCwVRmtDZL"
      },
      "outputs": [],
      "source": [
        "data_train, metadata_train = data, metadata\n",
        "\n",
        "temp_indexes = [v for k, v in metadata_train['observation_ids'].items()\n",
        "                if \"zone_air_temperature_sensor\" in k]\n",
        "temp_data_train = data_train['observation_value_matrix'][:, temp_indexes]\n",
        "temp_data_train_ids = {\n",
        "    k: i for i, (k, v) in enumerate(\n",
        "        [(k, v) for k, v in metadata_train['observation_ids'].items()\n",
        "         if \"zone_air_temperature_sensor\" in k]\n",
        "    )\n",
        "}\n",
        "\n",
        "exog_train_indexes = [v for k, v in metadata_train['observation_ids'].items()\n",
        "                if \"zone_air_temperature_sensor\" not in k]\n",
        "exogenous_observation_data_train = data_train['observation_value_matrix'][:, exog_train_indexes]\n",
        "exogenous_observation_data_train_ids = {\n",
        "    k: i for i, (k, v) in enumerate(\n",
        "        [(k, v) for k, v in metadata_train['observation_ids'].items()\n",
        "         if \"zone_air_temperature_sensor\" not in k]\n",
        "    )\n",
        "}\n",
        "\n",
        "action_data_train = data_train['action_value_matrix']"
      ]
    },
    {
      "cell_type": "markdown",
      "metadata": {
        "id": "ZC5UEPO2twRm"
      },
      "source": [
        "### Extract the final month (June, 2022) from the training data"
      ]
    },
    {
      "cell_type": "code",
      "execution_count": 14,
      "metadata": {
        "colab": {
          "base_uri": "https://localhost:8080/"
        },
        "id": "76-9LO_MtzYt",
        "outputId": "258b5193-8925-4223-910b-dda927fc56d9"
      },
      "outputs": [
        {
          "name": "stdout",
          "output_type": "stream",
          "text": [
            "(8640, 123)\n",
            "(8640, 1075)\n",
            "(8640, 3)\n"
          ]
        }
      ],
      "source": [
        "train_temp = temp_data_train[-8640:]\n",
        "train_exog = exogenous_observation_data_train[-8640:]\n",
        "train_actions = action_data_train[-8640:]\n",
        "\n",
        "\n",
        "print(train_temp.shape)\n",
        "print(train_exog.shape)\n",
        "print(train_actions.shape)"
      ]
    },
    {
      "cell_type": "markdown",
      "metadata": {
        "id": "sYBhlU9utEEt"
      },
      "source": [
        "### Create Dataset for Storing and Accessing the Seq2Seq SB Data"
      ]
    },
    {
      "cell_type": "code",
      "execution_count": 15,
      "metadata": {},
      "outputs": [],
      "source": [
        "import torch\n",
        "import torch.nn as nn\n",
        "import torch.nn.functional as F\n",
        "from torch.utils.data import Dataset, DataLoader\n",
        "import numpy as np\n",
        "import random\n",
        "from typing import Dict, Tuple, Optional\n",
        "import math\n",
        "import matplotlib.pyplot as plt\n",
        "from tqdm import tqdm\n",
        "import warnings\n",
        "warnings.filterwarnings('ignore')"
      ]
    },
    {
      "cell_type": "code",
      "execution_count": 21,
      "metadata": {
        "id": "3YEDaZSbnIqQ"
      },
      "outputs": [],
      "source": [
        "class BuildingDataset(Dataset):\n",
        "    def __init__(self, \n",
        "                 temp_data: np.ndarray,\n",
        "                 exog_data: np.ndarray, \n",
        "                 action_data: np.ndarray,\n",
        "                 min_history: int = 288,  # 1 day minimum\n",
        "                 max_forecast: int = 2015,  # 7 days maximum\n",
        "                 curriculum_stage: int = 0):\n",
        "        \n",
        "        self.temp_data = temp_data  # [8640, 123]\n",
        "        self.exog_data = exog_data  # [8640, 1075]\n",
        "        self.action_data = action_data  # [8640, 3]\n",
        "        \n",
        "        self.min_history = min_history\n",
        "        self.max_forecast = max_forecast\n",
        "        \n",
        "        # Curriculum learning stages\n",
        "        self.curriculum_stages = [\n",
        "            {'min_forecast': 288, 'max_forecast': 576},    # 1-2 days\n",
        "            {'min_forecast': 288, 'max_forecast': 1152},   # 1-4 days\n",
        "            {'min_forecast': 288, 'max_forecast': 2015},   # 1-7 days\n",
        "            {'min_forecast': 1152, 'max_forecast': 2015},  # 4-7 days\n",
        "        ]\n",
        "        \n",
        "        self.set_curriculum_stage(curriculum_stage)\n",
        "        \n",
        "        # Valid indices for sampling\n",
        "        self.valid_indices = list(range(self.min_history, \n",
        "                                      len(temp_data) - self.max_forecast))\n",
        "        \n",
        "    def set_curriculum_stage(self, stage: int):\n",
        "        \"\"\"Set curriculum learning stage\"\"\"\n",
        "        if stage < len(self.curriculum_stages):\n",
        "            self.current_stage = self.curriculum_stages[stage]\n",
        "        else:\n",
        "            self.current_stage = self.curriculum_stages[-1]\n",
        "    \n",
        "    def __len__(self):\n",
        "        return len(self.valid_indices)\n",
        "    \n",
        "    def __getitem__(self, idx):\n",
        "        actual_idx = self.valid_indices[idx]\n",
        "        \n",
        "        # Variable context window length (up to available history)\n",
        "        max_possible_history = actual_idx\n",
        "        context_length = min(max_possible_history, \n",
        "                           random.randint(self.min_history, min(2000, max_possible_history)))\n",
        "        \n",
        "        # Variable forecast length based on curriculum\n",
        "        min_forecast = self.current_stage['min_forecast']\n",
        "        max_forecast = min(self.current_stage['max_forecast'], \n",
        "                          len(self.temp_data) - actual_idx - 1)\n",
        "        \n",
        "        forecast_length = random.randint(min_forecast, max_forecast)\n",
        "        \n",
        "        return {\n",
        "            'historical_temps': torch.tensor(\n",
        "                self.temp_data[actual_idx-context_length:actual_idx], \n",
        "                dtype=torch.float32\n",
        "            ),\n",
        "            'historical_exog': torch.tensor(\n",
        "                self.exog_data[actual_idx-context_length:actual_idx], \n",
        "                dtype=torch.float32\n",
        "            ),\n",
        "            'historical_actions': torch.tensor(\n",
        "                self.action_data[actual_idx-context_length:actual_idx], \n",
        "                dtype=torch.float32\n",
        "            ),\n",
        "            'initial_temp': torch.tensor(\n",
        "                self.temp_data[actual_idx], \n",
        "                dtype=torch.float32\n",
        "            ),\n",
        "            'future_exog': torch.tensor(\n",
        "                self.exog_data[actual_idx+1:actual_idx+1+forecast_length], \n",
        "                dtype=torch.float32\n",
        "            ),\n",
        "            'future_actions': torch.tensor(\n",
        "                self.action_data[actual_idx+1:actual_idx+1+forecast_length], \n",
        "                dtype=torch.float32\n",
        "            ),\n",
        "            'target_temps': torch.tensor(\n",
        "                self.temp_data[actual_idx+1:actual_idx+1+forecast_length], \n",
        "                dtype=torch.float32\n",
        "            )\n",
        "        }"
      ]
    },
    {
      "cell_type": "code",
      "execution_count": 22,
      "metadata": {
        "id": "o9BVDSDZQaW1"
      },
      "outputs": [],
      "source": [
        "class PositionalEncoding(nn.Module):\n",
        "    def __init__(self, d_model: int, max_len: int = 10000):\n",
        "        super().__init__()\n",
        "        \n",
        "        pe = torch.zeros(max_len, d_model)\n",
        "        position = torch.arange(0, max_len, dtype=torch.float).unsqueeze(1)\n",
        "        div_term = torch.exp(torch.arange(0, d_model, 2).float() * (-math.log(10000.0) / d_model))\n",
        "        \n",
        "        pe[:, 0::2] = torch.sin(position * div_term)\n",
        "        pe[:, 1::2] = torch.cos(position * div_term)\n",
        "        \n",
        "        self.register_buffer('pe', pe)\n",
        "    \n",
        "    def forward(self, x):\n",
        "        return x + self.pe[:x.size(1)].unsqueeze(0)\n",
        "\n",
        "class BuildingTempPredictor(nn.Module):\n",
        "    def __init__(self, \n",
        "                 temp_dim: int = 123,\n",
        "                 exog_dim: int = 1075, \n",
        "                 action_dim: int = 3,\n",
        "                 d_model: int = 512,\n",
        "                 nhead: int = 8,\n",
        "                 num_encoder_layers: int = 4,\n",
        "                 num_decoder_layers: int = 4,\n",
        "                 dropout: float = 0.1):\n",
        "        \n",
        "        super().__init__()\n",
        "        \n",
        "        self.d_model = d_model\n",
        "        \n",
        "        # Input encoders\n",
        "        self.temp_encoder = nn.Linear(temp_dim, d_model)\n",
        "        self.exog_encoder = nn.Linear(exog_dim, d_model)\n",
        "        self.action_encoder = nn.Linear(action_dim, d_model)\n",
        "        \n",
        "        # Positional encoding\n",
        "        self.pos_encoder = PositionalEncoding(d_model)\n",
        "        \n",
        "        # Layer norm\n",
        "        self.norm = nn.LayerNorm(d_model)\n",
        "        \n",
        "        # Transformer encoder for historical context\n",
        "        encoder_layer = nn.TransformerEncoderLayer(\n",
        "            d_model=d_model,\n",
        "            nhead=nhead,\n",
        "            dim_feedforward=d_model * 4,\n",
        "            dropout=dropout,\n",
        "            batch_first=True\n",
        "        )\n",
        "        self.history_transformer = nn.TransformerEncoder(\n",
        "            encoder_layer, \n",
        "            num_layers=num_encoder_layers\n",
        "        )\n",
        "        \n",
        "        # Transformer decoder for prediction\n",
        "        decoder_layer = nn.TransformerDecoderLayer(\n",
        "            d_model=d_model,\n",
        "            nhead=nhead,\n",
        "            dim_feedforward=d_model * 4,\n",
        "            dropout=dropout,\n",
        "            batch_first=True\n",
        "        )\n",
        "        self.prediction_transformer = nn.TransformerDecoder(\n",
        "            decoder_layer,\n",
        "            num_layers=num_decoder_layers\n",
        "        )\n",
        "        \n",
        "        # Output projection\n",
        "        self.output_projection = nn.Sequential(\n",
        "            nn.Linear(d_model, d_model // 2),\n",
        "            nn.ReLU(),\n",
        "            nn.Dropout(dropout),\n",
        "            nn.Linear(d_model // 2, temp_dim)\n",
        "        )\n",
        "        \n",
        "        # Initialize weights\n",
        "        self.apply(self._init_weights)\n",
        "    \n",
        "    def _init_weights(self, module):\n",
        "        if isinstance(module, nn.Linear):\n",
        "            torch.nn.init.normal_(module.weight, mean=0.0, std=0.02)\n",
        "            if module.bias is not None:\n",
        "                torch.nn.init.zeros_(module.bias)\n",
        "    \n",
        "    def create_padding_mask(self, seq_len: int, actual_len: int) -> torch.Tensor:\n",
        "        \"\"\"Create padding mask for variable length sequences\"\"\"\n",
        "        mask = torch.zeros(seq_len, dtype=torch.bool)\n",
        "        if actual_len < seq_len:\n",
        "            mask[actual_len:] = True\n",
        "        return mask\n",
        "    \n",
        "    def forward(self, \n",
        "                historical_temps: torch.Tensor,\n",
        "                historical_exog: torch.Tensor,\n",
        "                historical_actions: torch.Tensor,\n",
        "                initial_temp: torch.Tensor,\n",
        "                future_exog: torch.Tensor,\n",
        "                future_actions: torch.Tensor) -> torch.Tensor:\n",
        "        \n",
        "        batch_size = historical_temps.shape[0]\n",
        "        history_len = historical_temps.shape[1]\n",
        "        forecast_len = future_exog.shape[1]\n",
        "        \n",
        "        # Encode historical sequence\n",
        "        hist_temp_emb = self.temp_encoder(historical_temps)\n",
        "        hist_exog_emb = self.exog_encoder(historical_exog)\n",
        "        hist_action_emb = self.action_encoder(historical_actions)\n",
        "        \n",
        "        # Combine historical features\n",
        "        hist_combined = hist_temp_emb + hist_exog_emb + hist_action_emb\n",
        "        hist_combined = self.pos_encoder(hist_combined)\n",
        "        hist_combined = self.norm(hist_combined)\n",
        "        \n",
        "        # Process historical context\n",
        "        memory = self.history_transformer(hist_combined)\n",
        "        \n",
        "        # Prepare future inputs\n",
        "        future_exog_emb = self.exog_encoder(future_exog)\n",
        "        future_action_emb = self.action_encoder(future_actions)\n",
        "        future_combined = future_exog_emb + future_action_emb\n",
        "        \n",
        "        # Add initial temperature as first token\n",
        "        initial_emb = self.temp_encoder(initial_temp).unsqueeze(1)\n",
        "        \n",
        "        # Create decoder input sequence\n",
        "        decoder_input = torch.cat([initial_emb, future_combined], dim=1)\n",
        "        decoder_input = self.pos_encoder(decoder_input)\n",
        "        decoder_input = self.norm(decoder_input)\n",
        "        \n",
        "        # Generate predictions using decoder\n",
        "        output = self.prediction_transformer(\n",
        "            decoder_input[:, :-1],  # Exclude last token\n",
        "            memory\n",
        "        )\n",
        "        \n",
        "        # Project to temperature space\n",
        "        predictions = self.output_projection(output)\n",
        "        \n",
        "        return predictions"
      ]
    },
    {
      "cell_type": "code",
      "execution_count": 23,
      "metadata": {
        "colab": {
          "base_uri": "https://localhost:8080/"
        },
        "id": "CzC8GjnK1L35",
        "outputId": "c50e01c5-77d9-4513-fa89-609e5fbcc550"
      },
      "outputs": [],
      "source": [
        "def collate_fn(batch):\n",
        "    \"\"\"Custom collate function for variable length sequences\"\"\"\n",
        "    \n",
        "    # Find max lengths\n",
        "    max_history = max(item['historical_temps'].shape[0] for item in batch)\n",
        "    max_forecast = max(item['future_exog'].shape[0] for item in batch)\n",
        "    \n",
        "    batch_size = len(batch)\n",
        "    \n",
        "    # Initialize tensors\n",
        "    historical_temps = torch.zeros(batch_size, max_history, 123)\n",
        "    historical_exog = torch.zeros(batch_size, max_history, 1075)\n",
        "    historical_actions = torch.zeros(batch_size, max_history, 3)\n",
        "    initial_temps = torch.zeros(batch_size, 123)\n",
        "    future_exog = torch.zeros(batch_size, max_forecast, 1075)\n",
        "    future_actions = torch.zeros(batch_size, max_forecast, 3)\n",
        "    target_temps = torch.zeros(batch_size, max_forecast, 123)\n",
        "    \n",
        "    # Fill tensors\n",
        "    for i, item in enumerate(batch):\n",
        "        hist_len = item['historical_temps'].shape[0]\n",
        "        fore_len = item['future_exog'].shape[0]\n",
        "        \n",
        "        historical_temps[i, :hist_len] = item['historical_temps']\n",
        "        historical_exog[i, :hist_len] = item['historical_exog']\n",
        "        historical_actions[i, :hist_len] = item['historical_actions']\n",
        "        initial_temps[i] = item['initial_temp']\n",
        "        future_exog[i, :fore_len] = item['future_exog']\n",
        "        future_actions[i, :fore_len] = item['future_actions']\n",
        "        target_temps[i, :fore_len] = item['target_temps']\n",
        "    \n",
        "    return {\n",
        "        'historical_temps': historical_temps,\n",
        "        'historical_exog': historical_exog,\n",
        "        'historical_actions': historical_actions,\n",
        "        'initial_temp': initial_temps,\n",
        "        'future_exog': future_exog,\n",
        "        'future_actions': future_actions,\n",
        "        'target_temps': target_temps\n",
        "    }"
      ]
    },
    {
      "cell_type": "code",
      "execution_count": 24,
      "metadata": {
        "id": "9A-o1eHQ6SAq"
      },
      "outputs": [],
      "source": [
        "def train_epoch(model: nn.Module, \n",
        "                train_loader: DataLoader, \n",
        "                optimizer: torch.optim.Optimizer,\n",
        "                device: torch.device,\n",
        "                epoch: int) -> float:\n",
        "    \"\"\"Train for one epoch\"\"\"\n",
        "    model.train()\n",
        "    total_loss = 0.0\n",
        "    num_batches = len(train_loader)\n",
        "    \n",
        "    progress_bar = tqdm(train_loader, desc=f'Epoch {epoch}')\n",
        "    \n",
        "    for batch_idx, batch in enumerate(progress_bar):\n",
        "        # Move to device\n",
        "        batch = {k: v.to(device) for k, v in batch.items()}\n",
        "        \n",
        "        optimizer.zero_grad()\n",
        "        \n",
        "        # Forward pass\n",
        "        predictions = model(\n",
        "            batch['historical_temps'],\n",
        "            batch['historical_exog'],\n",
        "            batch['historical_actions'], \n",
        "            batch['initial_temp'],\n",
        "            batch['future_exog'],\n",
        "            batch['future_actions']\n",
        "        )\n",
        "        \n",
        "        # Compute loss\n",
        "        loss = F.mse_loss(predictions, batch['target_temps'])\n",
        "        \n",
        "        # Backward pass\n",
        "        loss.backward()\n",
        "        torch.nn.utils.clip_grad_norm_(model.parameters(), max_norm=1.0)\n",
        "        optimizer.step()\n",
        "        \n",
        "        total_loss += loss.item()\n",
        "        progress_bar.set_postfix({'loss': loss.item()})\n",
        "    \n",
        "    return total_loss / num_batches\n",
        "\n",
        "def validate_model(model: nn.Module, val_loader: DataLoader, device: torch.device) -> Dict[str, float]:\n",
        "    \"\"\"Validate model\"\"\"\n",
        "    model.eval()\n",
        "    total_loss = 0.0\n",
        "    total_mae = 0.0\n",
        "    num_batches = len(val_loader)\n",
        "    \n",
        "    with torch.no_grad():\n",
        "        for batch in val_loader:\n",
        "            batch = {k: v.to(device) for k, v in batch.items()}\n",
        "            \n",
        "            predictions = model(\n",
        "                batch['historical_temps'],\n",
        "                batch['historical_exog'],\n",
        "                batch['historical_actions'],\n",
        "                batch['initial_temp'],\n",
        "                batch['future_exog'],\n",
        "                batch['future_actions']\n",
        "            )\n",
        "            \n",
        "            loss = F.mse_loss(predictions, batch['target_temps'])\n",
        "            mae = F.l1_loss(predictions, batch['target_temps'])\n",
        "            \n",
        "            total_loss += loss.item()\n",
        "            total_mae += mae.item()\n",
        "    \n",
        "    return {\n",
        "        'val_loss': total_loss / num_batches,\n",
        "        'val_mae': total_mae / num_batches\n",
        "    }\n",
        "\n",
        "def evaluate_final(model: nn.Module,\n",
        "                   full_history_temps: torch.Tensor,\n",
        "                   full_history_exog: torch.Tensor,\n",
        "                   full_history_actions: torch.Tensor,\n",
        "                   initial_condition: torch.Tensor,\n",
        "                   future_exog: torch.Tensor,\n",
        "                   future_actions: torch.Tensor,\n",
        "                   device: torch.device) -> torch.Tensor:\n",
        "    \"\"\"Final evaluation using full month history\"\"\"\n",
        "    model.eval()\n",
        "    \n",
        "    with torch.no_grad():\n",
        "        # Add batch dimension\n",
        "        full_history_temps = full_history_temps.unsqueeze(0).to(device)\n",
        "        full_history_exog = full_history_exog.unsqueeze(0).to(device)\n",
        "        full_history_actions = full_history_actions.unsqueeze(0).to(device)\n",
        "        initial_condition = initial_condition.unsqueeze(0).to(device)\n",
        "        future_exog = future_exog.unsqueeze(0).to(device)\n",
        "        future_actions = future_actions.unsqueeze(0).to(device)\n",
        "        \n",
        "        predictions = model(\n",
        "            full_history_temps,\n",
        "            full_history_exog,\n",
        "            full_history_actions,\n",
        "            initial_condition,\n",
        "            future_exog[:, :2015],  # Only predict 2015 steps\n",
        "            future_actions[:, :2015]\n",
        "        )\n",
        "    \n",
        "    return predictions.squeeze(0)"
      ]
    },
    {
      "cell_type": "code",
      "execution_count": 25,
      "metadata": {},
      "outputs": [],
      "source": [
        "class Config:\n",
        "    # Model parameters\n",
        "    temp_dim = 123\n",
        "    exog_dim = 1075\n",
        "    action_dim = 3\n",
        "    d_model = 512\n",
        "    nhead = 8\n",
        "    num_encoder_layers = 4\n",
        "    num_decoder_layers = 4\n",
        "    dropout = 0.1\n",
        "    \n",
        "    # Training parameters\n",
        "    batch_size = 8\n",
        "    learning_rate = 1e-4\n",
        "    weight_decay = 1e-5\n",
        "    \n",
        "    # Curriculum learning stages\n",
        "    curriculum_schedule = [\n",
        "        {'epochs': 15, 'stage': 0},  # 1-2 days\n",
        "        {'epochs': 20, 'stage': 1},  # 1-4 days\n",
        "        {'epochs': 25, 'stage': 2},  # 1-7 days\n",
        "        {'epochs': 30, 'stage': 3},  # 4-7 days\n",
        "    ]"
      ]
    },
    {
      "cell_type": "code",
      "execution_count": 26,
      "metadata": {},
      "outputs": [
        {
          "name": "stdout",
          "output_type": "stream",
          "text": [
            "Using device: cuda\n",
            "Model parameters: 30,206,075\n",
            "\n",
            "=== Curriculum Stage 0 ===\n"
          ]
        },
        {
          "name": "stderr",
          "output_type": "stream",
          "text": [
            "Epoch 1: 100%|██████████| 634/634 [03:19<00:00,  3.17it/s, loss=3.57e+3]\n"
          ]
        },
        {
          "name": "stdout",
          "output_type": "stream",
          "text": [
            "Epoch 1: Train Loss: 3629.9469, Val Loss: 1935.1604, Val MAE: 25.1357\n",
            "New best model saved with val_loss: 1935.1604\n"
          ]
        },
        {
          "name": "stderr",
          "output_type": "stream",
          "text": [
            "Epoch 2: 100%|██████████| 634/634 [03:25<00:00,  3.09it/s, loss=3.89e+3]\n"
          ]
        },
        {
          "name": "stdout",
          "output_type": "stream",
          "text": [
            "Epoch 2: Train Loss: 3499.6610, Val Loss: 1841.0073, Val MAE: 23.9952\n",
            "New best model saved with val_loss: 1841.0073\n"
          ]
        },
        {
          "name": "stderr",
          "output_type": "stream",
          "text": [
            "Epoch 3: 100%|██████████| 634/634 [03:24<00:00,  3.10it/s, loss=3.34e+3]\n"
          ]
        },
        {
          "name": "stdout",
          "output_type": "stream",
          "text": [
            "Epoch 3: Train Loss: 3254.3575, Val Loss: 1694.3759, Val MAE: 23.0666\n",
            "New best model saved with val_loss: 1694.3759\n"
          ]
        },
        {
          "name": "stderr",
          "output_type": "stream",
          "text": [
            "Epoch 4: 100%|██████████| 634/634 [03:24<00:00,  3.09it/s, loss=2.42e+3]\n"
          ]
        },
        {
          "name": "stdout",
          "output_type": "stream",
          "text": [
            "Epoch 4: Train Loss: 2948.9079, Val Loss: 1542.2183, Val MAE: 22.3112\n",
            "New best model saved with val_loss: 1542.2183\n"
          ]
        },
        {
          "name": "stderr",
          "output_type": "stream",
          "text": [
            "Epoch 5: 100%|██████████| 634/634 [03:28<00:00,  3.05it/s, loss=1.98e+3]\n"
          ]
        },
        {
          "name": "stdout",
          "output_type": "stream",
          "text": [
            "Epoch 5: Train Loss: 2572.2230, Val Loss: 1323.1475, Val MAE: 20.6749\n",
            "New best model saved with val_loss: 1323.1475\n"
          ]
        },
        {
          "name": "stderr",
          "output_type": "stream",
          "text": [
            "Epoch 6: 100%|██████████| 634/634 [03:25<00:00,  3.09it/s, loss=2.47e+3]\n"
          ]
        },
        {
          "name": "stdout",
          "output_type": "stream",
          "text": [
            "Epoch 6: Train Loss: 2151.0977, Val Loss: 1076.0836, Val MAE: 18.4912\n",
            "New best model saved with val_loss: 1076.0836\n"
          ]
        },
        {
          "name": "stderr",
          "output_type": "stream",
          "text": [
            "Epoch 7: 100%|██████████| 634/634 [03:25<00:00,  3.09it/s, loss=1.42e+3]\n"
          ]
        },
        {
          "name": "stdout",
          "output_type": "stream",
          "text": [
            "Epoch 7: Train Loss: 1728.3945, Val Loss: 860.3639, Val MAE: 16.5115\n",
            "New best model saved with val_loss: 860.3639\n"
          ]
        },
        {
          "name": "stderr",
          "output_type": "stream",
          "text": [
            "Epoch 8: 100%|██████████| 634/634 [03:24<00:00,  3.10it/s, loss=942]    \n"
          ]
        },
        {
          "name": "stdout",
          "output_type": "stream",
          "text": [
            "Epoch 8: Train Loss: 1307.2846, Val Loss: 660.9065, Val MAE: 14.2406\n",
            "New best model saved with val_loss: 660.9065\n"
          ]
        },
        {
          "name": "stderr",
          "output_type": "stream",
          "text": [
            "Epoch 9: 100%|██████████| 634/634 [03:26<00:00,  3.07it/s, loss=920]    \n"
          ]
        },
        {
          "name": "stdout",
          "output_type": "stream",
          "text": [
            "Epoch 9: Train Loss: 922.2637, Val Loss: 493.4813, Val MAE: 11.6937\n",
            "New best model saved with val_loss: 493.4813\n"
          ]
        },
        {
          "name": "stderr",
          "output_type": "stream",
          "text": [
            "Epoch 10: 100%|██████████| 634/634 [03:24<00:00,  3.10it/s, loss=635]\n"
          ]
        },
        {
          "name": "stdout",
          "output_type": "stream",
          "text": [
            "Epoch 10: Train Loss: 604.6183, Val Loss: 376.0935, Val MAE: 8.9523\n",
            "New best model saved with val_loss: 376.0935\n"
          ]
        },
        {
          "name": "stderr",
          "output_type": "stream",
          "text": [
            "Epoch 11: 100%|██████████| 634/634 [03:25<00:00,  3.09it/s, loss=341]\n"
          ]
        },
        {
          "name": "stdout",
          "output_type": "stream",
          "text": [
            "Epoch 11: Train Loss: 392.8598, Val Loss: 316.9975, Val MAE: 6.5487\n",
            "New best model saved with val_loss: 316.9975\n"
          ]
        },
        {
          "name": "stderr",
          "output_type": "stream",
          "text": [
            "Epoch 12: 100%|██████████| 634/634 [03:25<00:00,  3.09it/s, loss=230] \n"
          ]
        },
        {
          "name": "stdout",
          "output_type": "stream",
          "text": [
            "Epoch 12: Train Loss: 280.9926, Val Loss: 227.8889, Val MAE: 4.7011\n",
            "New best model saved with val_loss: 227.8889\n"
          ]
        },
        {
          "name": "stderr",
          "output_type": "stream",
          "text": [
            "Epoch 13: 100%|██████████| 634/634 [03:24<00:00,  3.11it/s, loss=264] \n"
          ]
        },
        {
          "name": "stdout",
          "output_type": "stream",
          "text": [
            "Epoch 13: Train Loss: 234.9533, Val Loss: 213.2380, Val MAE: 4.2288\n",
            "New best model saved with val_loss: 213.2380\n"
          ]
        },
        {
          "name": "stderr",
          "output_type": "stream",
          "text": [
            "Epoch 14: 100%|██████████| 634/634 [03:26<00:00,  3.06it/s, loss=184] \n"
          ]
        },
        {
          "name": "stdout",
          "output_type": "stream",
          "text": [
            "Epoch 14: Train Loss: 211.6365, Val Loss: 202.5228, Val MAE: 4.1983\n",
            "New best model saved with val_loss: 202.5228\n"
          ]
        },
        {
          "name": "stderr",
          "output_type": "stream",
          "text": [
            "Epoch 15: 100%|██████████| 634/634 [03:25<00:00,  3.08it/s, loss=210] \n"
          ]
        },
        {
          "name": "stdout",
          "output_type": "stream",
          "text": [
            "Epoch 15: Train Loss: 192.6898, Val Loss: 187.2942, Val MAE: 4.0430\n",
            "New best model saved with val_loss: 187.2942\n",
            "\n",
            "=== Curriculum Stage 1 ===\n"
          ]
        },
        {
          "name": "stderr",
          "output_type": "stream",
          "text": [
            "Epoch 16: 100%|██████████| 634/634 [04:28<00:00,  2.36it/s, loss=166] \n"
          ]
        },
        {
          "name": "stdout",
          "output_type": "stream",
          "text": [
            "Epoch 16: Train Loss: 141.3053, Val Loss: 163.7239, Val MAE: 3.6285\n",
            "New best model saved with val_loss: 163.7239\n"
          ]
        },
        {
          "name": "stderr",
          "output_type": "stream",
          "text": [
            "Epoch 17: 100%|██████████| 634/634 [04:29<00:00,  2.35it/s, loss=69.3]\n"
          ]
        },
        {
          "name": "stdout",
          "output_type": "stream",
          "text": [
            "Epoch 17: Train Loss: 122.0612, Val Loss: 153.6995, Val MAE: 3.6484\n",
            "New best model saved with val_loss: 153.6995\n"
          ]
        },
        {
          "name": "stderr",
          "output_type": "stream",
          "text": [
            "Epoch 18: 100%|██████████| 634/634 [04:28<00:00,  2.37it/s, loss=90.2]\n"
          ]
        },
        {
          "name": "stdout",
          "output_type": "stream",
          "text": [
            "Epoch 18: Train Loss: 102.6649, Val Loss: 137.6499, Val MAE: 3.5059\n",
            "New best model saved with val_loss: 137.6499\n"
          ]
        },
        {
          "name": "stderr",
          "output_type": "stream",
          "text": [
            "Epoch 19: 100%|██████████| 634/634 [04:28<00:00,  2.36it/s, loss=72.5]\n"
          ]
        },
        {
          "name": "stdout",
          "output_type": "stream",
          "text": [
            "Epoch 19: Train Loss: 84.3840, Val Loss: 125.2601, Val MAE: 3.4495\n",
            "New best model saved with val_loss: 125.2601\n"
          ]
        },
        {
          "name": "stderr",
          "output_type": "stream",
          "text": [
            "Epoch 20: 100%|██████████| 634/634 [04:29<00:00,  2.35it/s, loss=58.3]\n"
          ]
        },
        {
          "name": "stdout",
          "output_type": "stream",
          "text": [
            "Epoch 20: Train Loss: 66.6609, Val Loss: 113.6069, Val MAE: 3.3746\n",
            "New best model saved with val_loss: 113.6069\n"
          ]
        },
        {
          "name": "stderr",
          "output_type": "stream",
          "text": [
            "Epoch 21: 100%|██████████| 634/634 [04:29<00:00,  2.35it/s, loss=78.6]\n"
          ]
        },
        {
          "name": "stdout",
          "output_type": "stream",
          "text": [
            "Epoch 21: Train Loss: 52.1282, Val Loss: 101.4580, Val MAE: 3.2081\n",
            "New best model saved with val_loss: 101.4580\n"
          ]
        },
        {
          "name": "stderr",
          "output_type": "stream",
          "text": [
            "Epoch 22: 100%|██████████| 634/634 [04:28<00:00,  2.36it/s, loss=20]  \n"
          ]
        },
        {
          "name": "stdout",
          "output_type": "stream",
          "text": [
            "Epoch 22: Train Loss: 41.0610, Val Loss: 92.1406, Val MAE: 3.1106\n",
            "New best model saved with val_loss: 92.1406\n"
          ]
        },
        {
          "name": "stderr",
          "output_type": "stream",
          "text": [
            "Epoch 23: 100%|██████████| 634/634 [04:29<00:00,  2.35it/s, loss=82.4]\n"
          ]
        },
        {
          "name": "stdout",
          "output_type": "stream",
          "text": [
            "Epoch 23: Train Loss: 35.1649, Val Loss: 86.6238, Val MAE: 3.0912\n",
            "New best model saved with val_loss: 86.6238\n"
          ]
        },
        {
          "name": "stderr",
          "output_type": "stream",
          "text": [
            "Epoch 24: 100%|██████████| 634/634 [04:31<00:00,  2.33it/s, loss=25.7]\n"
          ]
        },
        {
          "name": "stdout",
          "output_type": "stream",
          "text": [
            "Epoch 24: Train Loss: 31.8392, Val Loss: 85.2848, Val MAE: 3.1281\n",
            "New best model saved with val_loss: 85.2848\n"
          ]
        },
        {
          "name": "stderr",
          "output_type": "stream",
          "text": [
            "Epoch 25: 100%|██████████| 634/634 [04:28<00:00,  2.36it/s, loss=12.6]\n"
          ]
        },
        {
          "name": "stdout",
          "output_type": "stream",
          "text": [
            "Epoch 25: Train Loss: 29.5517, Val Loss: 79.4325, Val MAE: 2.9855\n",
            "New best model saved with val_loss: 79.4325\n"
          ]
        },
        {
          "name": "stderr",
          "output_type": "stream",
          "text": [
            "Epoch 26: 100%|██████████| 634/634 [04:29<00:00,  2.35it/s, loss=35.4]\n"
          ]
        },
        {
          "name": "stdout",
          "output_type": "stream",
          "text": [
            "Epoch 26: Train Loss: 28.2332, Val Loss: 78.3360, Val MAE: 2.9509\n",
            "New best model saved with val_loss: 78.3360\n"
          ]
        },
        {
          "name": "stderr",
          "output_type": "stream",
          "text": [
            "Epoch 27: 100%|██████████| 634/634 [04:28<00:00,  2.36it/s, loss=52.9]\n"
          ]
        },
        {
          "name": "stdout",
          "output_type": "stream",
          "text": [
            "Epoch 27: Train Loss: 26.8279, Val Loss: 78.3775, Val MAE: 2.9567\n"
          ]
        },
        {
          "name": "stderr",
          "output_type": "stream",
          "text": [
            "Epoch 28: 100%|██████████| 634/634 [04:29<00:00,  2.35it/s, loss=19.4]\n"
          ]
        },
        {
          "name": "stdout",
          "output_type": "stream",
          "text": [
            "Epoch 28: Train Loss: 25.4303, Val Loss: 76.8318, Val MAE: 2.8898\n",
            "New best model saved with val_loss: 76.8318\n"
          ]
        },
        {
          "name": "stderr",
          "output_type": "stream",
          "text": [
            "Epoch 29: 100%|██████████| 634/634 [04:28<00:00,  2.36it/s, loss=38.5]\n"
          ]
        },
        {
          "name": "stdout",
          "output_type": "stream",
          "text": [
            "Epoch 29: Train Loss: 24.6558, Val Loss: 76.5612, Val MAE: 2.8938\n",
            "New best model saved with val_loss: 76.5612\n"
          ]
        },
        {
          "name": "stderr",
          "output_type": "stream",
          "text": [
            "Epoch 30: 100%|██████████| 634/634 [04:28<00:00,  2.36it/s, loss=13.4]\n"
          ]
        },
        {
          "name": "stdout",
          "output_type": "stream",
          "text": [
            "Epoch 30: Train Loss: 24.1593, Val Loss: 79.0216, Val MAE: 2.9564\n"
          ]
        },
        {
          "name": "stderr",
          "output_type": "stream",
          "text": [
            "Epoch 31: 100%|██████████| 634/634 [04:29<00:00,  2.35it/s, loss=17.4]\n"
          ]
        },
        {
          "name": "stdout",
          "output_type": "stream",
          "text": [
            "Epoch 31: Train Loss: 23.6807, Val Loss: 72.8366, Val MAE: 2.7619\n",
            "New best model saved with val_loss: 72.8366\n"
          ]
        },
        {
          "name": "stderr",
          "output_type": "stream",
          "text": [
            "Epoch 32: 100%|██████████| 634/634 [04:31<00:00,  2.33it/s, loss=32.3]\n"
          ]
        },
        {
          "name": "stdout",
          "output_type": "stream",
          "text": [
            "Epoch 32: Train Loss: 23.0852, Val Loss: 72.8747, Val MAE: 2.7359\n"
          ]
        },
        {
          "name": "stderr",
          "output_type": "stream",
          "text": [
            "Epoch 33: 100%|██████████| 634/634 [04:28<00:00,  2.36it/s, loss=31.9]\n"
          ]
        },
        {
          "name": "stdout",
          "output_type": "stream",
          "text": [
            "Epoch 33: Train Loss: 23.2735, Val Loss: 72.6056, Val MAE: 2.6320\n",
            "New best model saved with val_loss: 72.6056\n"
          ]
        },
        {
          "name": "stderr",
          "output_type": "stream",
          "text": [
            "Epoch 34: 100%|██████████| 634/634 [04:29<00:00,  2.36it/s, loss=10.2]\n"
          ]
        },
        {
          "name": "stdout",
          "output_type": "stream",
          "text": [
            "Epoch 34: Train Loss: 22.3016, Val Loss: 73.1826, Val MAE: 2.6520\n"
          ]
        },
        {
          "name": "stderr",
          "output_type": "stream",
          "text": [
            "Epoch 35: 100%|██████████| 634/634 [04:31<00:00,  2.33it/s, loss=16.8]\n"
          ]
        },
        {
          "name": "stdout",
          "output_type": "stream",
          "text": [
            "Epoch 35: Train Loss: 22.4009, Val Loss: 73.1546, Val MAE: 2.6392\n",
            "\n",
            "=== Curriculum Stage 2 ===\n"
          ]
        },
        {
          "name": "stderr",
          "output_type": "stream",
          "text": [
            "Epoch 36: 100%|██████████| 634/634 [06:28<00:00,  1.63it/s, loss=23.6]\n"
          ]
        },
        {
          "name": "stdout",
          "output_type": "stream",
          "text": [
            "Epoch 36: Train Loss: 21.3612, Val Loss: 122.3025, Val MAE: 3.4343\n"
          ]
        },
        {
          "name": "stderr",
          "output_type": "stream",
          "text": [
            "Epoch 37: 100%|██████████| 634/634 [06:36<00:00,  1.60it/s, loss=26.6]\n"
          ]
        },
        {
          "name": "stdout",
          "output_type": "stream",
          "text": [
            "Epoch 37: Train Loss: 20.9013, Val Loss: 117.1902, Val MAE: 3.2900\n"
          ]
        },
        {
          "name": "stderr",
          "output_type": "stream",
          "text": [
            "Epoch 38: 100%|██████████| 634/634 [06:34<00:00,  1.61it/s, loss=18.2]\n"
          ]
        },
        {
          "name": "stdout",
          "output_type": "stream",
          "text": [
            "Epoch 38: Train Loss: 20.9404, Val Loss: 118.8679, Val MAE: 3.3145\n"
          ]
        },
        {
          "name": "stderr",
          "output_type": "stream",
          "text": [
            "Epoch 39: 100%|██████████| 634/634 [06:29<00:00,  1.63it/s, loss=22]  \n"
          ]
        },
        {
          "name": "stdout",
          "output_type": "stream",
          "text": [
            "Epoch 39: Train Loss: 20.4095, Val Loss: 122.5815, Val MAE: 3.4007\n"
          ]
        },
        {
          "name": "stderr",
          "output_type": "stream",
          "text": [
            "Epoch 40: 100%|██████████| 634/634 [06:35<00:00,  1.60it/s, loss=42.3]\n"
          ]
        },
        {
          "name": "stdout",
          "output_type": "stream",
          "text": [
            "Epoch 40: Train Loss: 19.9074, Val Loss: 128.1242, Val MAE: 3.4677\n"
          ]
        },
        {
          "name": "stderr",
          "output_type": "stream",
          "text": [
            "Epoch 41: 100%|██████████| 634/634 [06:38<00:00,  1.59it/s, loss=16.5]\n"
          ]
        },
        {
          "name": "stdout",
          "output_type": "stream",
          "text": [
            "Epoch 41: Train Loss: 19.4053, Val Loss: 133.3332, Val MAE: 3.5017\n"
          ]
        },
        {
          "name": "stderr",
          "output_type": "stream",
          "text": [
            "Epoch 42: 100%|██████████| 634/634 [06:33<00:00,  1.61it/s, loss=17.9]\n"
          ]
        },
        {
          "name": "stdout",
          "output_type": "stream",
          "text": [
            "Epoch 42: Train Loss: 18.8016, Val Loss: 135.0465, Val MAE: 3.4867\n"
          ]
        },
        {
          "name": "stderr",
          "output_type": "stream",
          "text": [
            "Epoch 43: 100%|██████████| 634/634 [06:39<00:00,  1.59it/s, loss=20.5]\n"
          ]
        },
        {
          "name": "stdout",
          "output_type": "stream",
          "text": [
            "Epoch 43: Train Loss: 18.3712, Val Loss: 141.8717, Val MAE: 3.5526\n"
          ]
        },
        {
          "name": "stderr",
          "output_type": "stream",
          "text": [
            "Epoch 44: 100%|██████████| 634/634 [06:37<00:00,  1.59it/s, loss=8.25]\n"
          ]
        },
        {
          "name": "stdout",
          "output_type": "stream",
          "text": [
            "Epoch 44: Train Loss: 17.7505, Val Loss: 133.1965, Val MAE: 3.3717\n"
          ]
        },
        {
          "name": "stderr",
          "output_type": "stream",
          "text": [
            "Epoch 45: 100%|██████████| 634/634 [06:37<00:00,  1.60it/s, loss=26.8]\n"
          ]
        },
        {
          "name": "stdout",
          "output_type": "stream",
          "text": [
            "Epoch 45: Train Loss: 17.5929, Val Loss: 134.5301, Val MAE: 3.3381\n"
          ]
        },
        {
          "name": "stderr",
          "output_type": "stream",
          "text": [
            "Epoch 46: 100%|██████████| 634/634 [06:38<00:00,  1.59it/s, loss=16.2]\n"
          ]
        },
        {
          "name": "stdout",
          "output_type": "stream",
          "text": [
            "Epoch 46: Train Loss: 17.3336, Val Loss: 129.8298, Val MAE: 3.2292\n"
          ]
        },
        {
          "name": "stderr",
          "output_type": "stream",
          "text": [
            "Epoch 47: 100%|██████████| 634/634 [06:40<00:00,  1.58it/s, loss=27.2]\n"
          ]
        },
        {
          "name": "stdout",
          "output_type": "stream",
          "text": [
            "Epoch 47: Train Loss: 16.9840, Val Loss: 132.4149, Val MAE: 3.2992\n"
          ]
        },
        {
          "name": "stderr",
          "output_type": "stream",
          "text": [
            "Epoch 48: 100%|██████████| 634/634 [06:39<00:00,  1.59it/s, loss=11.5]\n"
          ]
        },
        {
          "name": "stdout",
          "output_type": "stream",
          "text": [
            "Epoch 48: Train Loss: 16.9284, Val Loss: 140.4086, Val MAE: 3.4135\n"
          ]
        },
        {
          "name": "stderr",
          "output_type": "stream",
          "text": [
            "Epoch 49: 100%|██████████| 634/634 [06:36<00:00,  1.60it/s, loss=15.4]\n"
          ]
        },
        {
          "name": "stdout",
          "output_type": "stream",
          "text": [
            "Epoch 49: Train Loss: 16.0252, Val Loss: 134.5971, Val MAE: 3.2254\n"
          ]
        },
        {
          "name": "stderr",
          "output_type": "stream",
          "text": [
            "Epoch 50: 100%|██████████| 634/634 [06:44<00:00,  1.57it/s, loss=10.7]\n"
          ]
        },
        {
          "name": "stdout",
          "output_type": "stream",
          "text": [
            "Epoch 50: Train Loss: 15.9477, Val Loss: 137.5582, Val MAE: 3.3316\n"
          ]
        },
        {
          "name": "stderr",
          "output_type": "stream",
          "text": [
            "Epoch 51: 100%|██████████| 634/634 [06:38<00:00,  1.59it/s, loss=14.6]\n"
          ]
        },
        {
          "name": "stdout",
          "output_type": "stream",
          "text": [
            "Epoch 51: Train Loss: 15.5886, Val Loss: 134.4587, Val MAE: 3.1951\n"
          ]
        },
        {
          "name": "stderr",
          "output_type": "stream",
          "text": [
            "Epoch 52: 100%|██████████| 634/634 [06:38<00:00,  1.59it/s, loss=18.8]\n"
          ]
        },
        {
          "name": "stdout",
          "output_type": "stream",
          "text": [
            "Epoch 52: Train Loss: 15.4781, Val Loss: 138.6957, Val MAE: 3.3078\n"
          ]
        },
        {
          "name": "stderr",
          "output_type": "stream",
          "text": [
            "Epoch 53: 100%|██████████| 634/634 [06:39<00:00,  1.59it/s, loss=17]  \n"
          ]
        },
        {
          "name": "stdout",
          "output_type": "stream",
          "text": [
            "Epoch 53: Train Loss: 15.4173, Val Loss: 141.2373, Val MAE: 3.3412\n"
          ]
        },
        {
          "name": "stderr",
          "output_type": "stream",
          "text": [
            "Epoch 54: 100%|██████████| 634/634 [06:38<00:00,  1.59it/s, loss=17.6]\n"
          ]
        },
        {
          "name": "stdout",
          "output_type": "stream",
          "text": [
            "Epoch 54: Train Loss: 15.1469, Val Loss: 138.0497, Val MAE: 3.2568\n"
          ]
        },
        {
          "name": "stderr",
          "output_type": "stream",
          "text": [
            "Epoch 55: 100%|██████████| 634/634 [06:43<00:00,  1.57it/s, loss=15.2]\n"
          ]
        },
        {
          "name": "stdout",
          "output_type": "stream",
          "text": [
            "Epoch 55: Train Loss: 14.9703, Val Loss: 140.2901, Val MAE: 3.2371\n"
          ]
        },
        {
          "name": "stderr",
          "output_type": "stream",
          "text": [
            "Epoch 56: 100%|██████████| 634/634 [06:43<00:00,  1.57it/s, loss=23.1]\n"
          ]
        },
        {
          "name": "stdout",
          "output_type": "stream",
          "text": [
            "Epoch 56: Train Loss: 14.8632, Val Loss: 141.1962, Val MAE: 3.3337\n"
          ]
        },
        {
          "name": "stderr",
          "output_type": "stream",
          "text": [
            "Epoch 57: 100%|██████████| 634/634 [06:42<00:00,  1.58it/s, loss=10.5]\n"
          ]
        },
        {
          "name": "stdout",
          "output_type": "stream",
          "text": [
            "Epoch 57: Train Loss: 14.7010, Val Loss: 136.8536, Val MAE: 3.2409\n"
          ]
        },
        {
          "name": "stderr",
          "output_type": "stream",
          "text": [
            "Epoch 58: 100%|██████████| 634/634 [06:42<00:00,  1.58it/s, loss=17.7]\n"
          ]
        },
        {
          "name": "stdout",
          "output_type": "stream",
          "text": [
            "Epoch 58: Train Loss: 14.6122, Val Loss: 133.4419, Val MAE: 3.1734\n"
          ]
        },
        {
          "name": "stderr",
          "output_type": "stream",
          "text": [
            "Epoch 59: 100%|██████████| 634/634 [06:43<00:00,  1.57it/s, loss=25.1]\n"
          ]
        },
        {
          "name": "stdout",
          "output_type": "stream",
          "text": [
            "Epoch 59: Train Loss: 14.5535, Val Loss: 139.3748, Val MAE: 3.2788\n"
          ]
        },
        {
          "name": "stderr",
          "output_type": "stream",
          "text": [
            "Epoch 60: 100%|██████████| 634/634 [06:45<00:00,  1.56it/s, loss=19.8]\n"
          ]
        },
        {
          "name": "stdout",
          "output_type": "stream",
          "text": [
            "Epoch 60: Train Loss: 14.6825, Val Loss: 136.2299, Val MAE: 3.1897\n",
            "\n",
            "=== Curriculum Stage 3 ===\n"
          ]
        },
        {
          "name": "stderr",
          "output_type": "stream",
          "text": [
            "Epoch 61: 100%|██████████| 634/634 [06:59<00:00,  1.51it/s, loss=20.6]\n"
          ]
        },
        {
          "name": "stdout",
          "output_type": "stream",
          "text": [
            "Epoch 61: Train Loss: 19.0226, Val Loss: 233.4443, Val MAE: 5.1612\n"
          ]
        },
        {
          "name": "stderr",
          "output_type": "stream",
          "text": [
            "Epoch 62: 100%|██████████| 634/634 [07:00<00:00,  1.51it/s, loss=13.2]\n"
          ]
        },
        {
          "name": "stdout",
          "output_type": "stream",
          "text": [
            "Epoch 62: Train Loss: 18.6400, Val Loss: 240.7642, Val MAE: 5.2510\n"
          ]
        },
        {
          "name": "stderr",
          "output_type": "stream",
          "text": [
            "Epoch 63: 100%|██████████| 634/634 [07:02<00:00,  1.50it/s, loss=12.4]\n"
          ]
        },
        {
          "name": "stdout",
          "output_type": "stream",
          "text": [
            "Epoch 63: Train Loss: 18.7673, Val Loss: 232.9756, Val MAE: 5.1504\n"
          ]
        },
        {
          "name": "stderr",
          "output_type": "stream",
          "text": [
            "Epoch 64: 100%|██████████| 634/634 [06:58<00:00,  1.52it/s, loss=20]  \n"
          ]
        },
        {
          "name": "stdout",
          "output_type": "stream",
          "text": [
            "Epoch 64: Train Loss: 18.5879, Val Loss: 234.7594, Val MAE: 5.1818\n"
          ]
        },
        {
          "name": "stderr",
          "output_type": "stream",
          "text": [
            "Epoch 65: 100%|██████████| 634/634 [07:01<00:00,  1.50it/s, loss=28.7]\n"
          ]
        },
        {
          "name": "stdout",
          "output_type": "stream",
          "text": [
            "Epoch 65: Train Loss: 18.2693, Val Loss: 241.2863, Val MAE: 5.2102\n"
          ]
        },
        {
          "name": "stderr",
          "output_type": "stream",
          "text": [
            "Epoch 66: 100%|██████████| 634/634 [06:59<00:00,  1.51it/s, loss=16.3]\n"
          ]
        },
        {
          "name": "stdout",
          "output_type": "stream",
          "text": [
            "Epoch 66: Train Loss: 18.0881, Val Loss: 238.3692, Val MAE: 5.1507\n"
          ]
        },
        {
          "name": "stderr",
          "output_type": "stream",
          "text": [
            "Epoch 67: 100%|██████████| 634/634 [06:59<00:00,  1.51it/s, loss=16.7]\n"
          ]
        },
        {
          "name": "stdout",
          "output_type": "stream",
          "text": [
            "Epoch 67: Train Loss: 17.9258, Val Loss: 236.2877, Val MAE: 5.0723\n"
          ]
        },
        {
          "name": "stderr",
          "output_type": "stream",
          "text": [
            "Epoch 68: 100%|██████████| 634/634 [07:00<00:00,  1.51it/s, loss=20.4]\n"
          ]
        },
        {
          "name": "stdout",
          "output_type": "stream",
          "text": [
            "Epoch 68: Train Loss: 17.7438, Val Loss: 240.7234, Val MAE: 5.0949\n"
          ]
        },
        {
          "name": "stderr",
          "output_type": "stream",
          "text": [
            "Epoch 69: 100%|██████████| 634/634 [07:03<00:00,  1.50it/s, loss=18.3]\n"
          ]
        },
        {
          "name": "stdout",
          "output_type": "stream",
          "text": [
            "Epoch 69: Train Loss: 17.5187, Val Loss: 240.1531, Val MAE: 5.0627\n"
          ]
        },
        {
          "name": "stderr",
          "output_type": "stream",
          "text": [
            "Epoch 70: 100%|██████████| 634/634 [07:02<00:00,  1.50it/s, loss=19.8]\n"
          ]
        },
        {
          "name": "stdout",
          "output_type": "stream",
          "text": [
            "Epoch 70: Train Loss: 17.3221, Val Loss: 244.2562, Val MAE: 5.1187\n"
          ]
        },
        {
          "name": "stderr",
          "output_type": "stream",
          "text": [
            "Epoch 71: 100%|██████████| 634/634 [07:00<00:00,  1.51it/s, loss=11]  \n"
          ]
        },
        {
          "name": "stdout",
          "output_type": "stream",
          "text": [
            "Epoch 71: Train Loss: 17.1124, Val Loss: 246.5899, Val MAE: 5.1403\n"
          ]
        },
        {
          "name": "stderr",
          "output_type": "stream",
          "text": [
            "Epoch 72: 100%|██████████| 634/634 [07:01<00:00,  1.50it/s, loss=19]  \n"
          ]
        },
        {
          "name": "stdout",
          "output_type": "stream",
          "text": [
            "Epoch 72: Train Loss: 16.8996, Val Loss: 242.4295, Val MAE: 5.0837\n"
          ]
        },
        {
          "name": "stderr",
          "output_type": "stream",
          "text": [
            "Epoch 73: 100%|██████████| 634/634 [07:02<00:00,  1.50it/s, loss=20.6]\n"
          ]
        },
        {
          "name": "stdout",
          "output_type": "stream",
          "text": [
            "Epoch 73: Train Loss: 16.6745, Val Loss: 229.3583, Val MAE: 4.9430\n"
          ]
        },
        {
          "name": "stderr",
          "output_type": "stream",
          "text": [
            "Epoch 74: 100%|██████████| 634/634 [07:04<00:00,  1.49it/s, loss=17.6]\n"
          ]
        },
        {
          "name": "stdout",
          "output_type": "stream",
          "text": [
            "Epoch 74: Train Loss: 16.4970, Val Loss: 234.7461, Val MAE: 5.0252\n"
          ]
        },
        {
          "name": "stderr",
          "output_type": "stream",
          "text": [
            "Epoch 75: 100%|██████████| 634/634 [07:00<00:00,  1.51it/s, loss=13.2]\n"
          ]
        },
        {
          "name": "stdout",
          "output_type": "stream",
          "text": [
            "Epoch 75: Train Loss: 16.3022, Val Loss: 231.7923, Val MAE: 4.9798\n"
          ]
        },
        {
          "name": "stderr",
          "output_type": "stream",
          "text": [
            "Epoch 76: 100%|██████████| 634/634 [07:01<00:00,  1.51it/s, loss=21.2]\n"
          ]
        },
        {
          "name": "stdout",
          "output_type": "stream",
          "text": [
            "Epoch 76: Train Loss: 16.0399, Val Loss: 228.0238, Val MAE: 4.9538\n"
          ]
        },
        {
          "name": "stderr",
          "output_type": "stream",
          "text": [
            "Epoch 77: 100%|██████████| 634/634 [07:03<00:00,  1.50it/s, loss=12.5]\n"
          ]
        },
        {
          "name": "stdout",
          "output_type": "stream",
          "text": [
            "Epoch 77: Train Loss: 15.9475, Val Loss: 218.7586, Val MAE: 4.7737\n"
          ]
        },
        {
          "name": "stderr",
          "output_type": "stream",
          "text": [
            "Epoch 78: 100%|██████████| 634/634 [07:02<00:00,  1.50it/s, loss=11.9]\n"
          ]
        },
        {
          "name": "stdout",
          "output_type": "stream",
          "text": [
            "Epoch 78: Train Loss: 15.6903, Val Loss: 217.1084, Val MAE: 4.8028\n"
          ]
        },
        {
          "name": "stderr",
          "output_type": "stream",
          "text": [
            "Epoch 79: 100%|██████████| 634/634 [07:02<00:00,  1.50it/s, loss=15.8]\n"
          ]
        },
        {
          "name": "stdout",
          "output_type": "stream",
          "text": [
            "Epoch 79: Train Loss: 15.5479, Val Loss: 233.4689, Val MAE: 4.9389\n"
          ]
        },
        {
          "name": "stderr",
          "output_type": "stream",
          "text": [
            "Epoch 80: 100%|██████████| 634/634 [07:05<00:00,  1.49it/s, loss=16.3]\n"
          ]
        },
        {
          "name": "stdout",
          "output_type": "stream",
          "text": [
            "Epoch 80: Train Loss: 15.4929, Val Loss: 240.2881, Val MAE: 5.0910\n"
          ]
        },
        {
          "name": "stderr",
          "output_type": "stream",
          "text": [
            "Epoch 81: 100%|██████████| 634/634 [07:04<00:00,  1.49it/s, loss=15]  \n"
          ]
        },
        {
          "name": "stdout",
          "output_type": "stream",
          "text": [
            "Epoch 81: Train Loss: 15.3292, Val Loss: 228.1207, Val MAE: 4.9120\n"
          ]
        },
        {
          "name": "stderr",
          "output_type": "stream",
          "text": [
            "Epoch 82: 100%|██████████| 634/634 [07:03<00:00,  1.50it/s, loss=17.2]\n"
          ]
        },
        {
          "name": "stdout",
          "output_type": "stream",
          "text": [
            "Epoch 82: Train Loss: 15.1271, Val Loss: 231.8411, Val MAE: 4.9559\n"
          ]
        },
        {
          "name": "stderr",
          "output_type": "stream",
          "text": [
            "Epoch 83: 100%|██████████| 634/634 [07:02<00:00,  1.50it/s, loss=18.9]\n"
          ]
        },
        {
          "name": "stdout",
          "output_type": "stream",
          "text": [
            "Epoch 83: Train Loss: 15.0722, Val Loss: 232.4379, Val MAE: 5.0273\n"
          ]
        },
        {
          "name": "stderr",
          "output_type": "stream",
          "text": [
            "Epoch 84: 100%|██████████| 634/634 [07:03<00:00,  1.50it/s, loss=13]  \n"
          ]
        },
        {
          "name": "stdout",
          "output_type": "stream",
          "text": [
            "Epoch 84: Train Loss: 14.8606, Val Loss: 218.2223, Val MAE: 4.8296\n"
          ]
        },
        {
          "name": "stderr",
          "output_type": "stream",
          "text": [
            "Epoch 85: 100%|██████████| 634/634 [07:02<00:00,  1.50it/s, loss=12.8]\n"
          ]
        },
        {
          "name": "stdout",
          "output_type": "stream",
          "text": [
            "Epoch 85: Train Loss: 14.8946, Val Loss: 212.1158, Val MAE: 4.7908\n"
          ]
        },
        {
          "name": "stderr",
          "output_type": "stream",
          "text": [
            "Epoch 86: 100%|██████████| 634/634 [07:02<00:00,  1.50it/s, loss=7.06]\n"
          ]
        },
        {
          "name": "stdout",
          "output_type": "stream",
          "text": [
            "Epoch 86: Train Loss: 14.6216, Val Loss: 214.7531, Val MAE: 4.8341\n"
          ]
        },
        {
          "name": "stderr",
          "output_type": "stream",
          "text": [
            "Epoch 87: 100%|██████████| 634/634 [06:59<00:00,  1.51it/s, loss=15]  \n"
          ]
        },
        {
          "name": "stdout",
          "output_type": "stream",
          "text": [
            "Epoch 87: Train Loss: 14.4966, Val Loss: 221.8401, Val MAE: 4.9185\n"
          ]
        },
        {
          "name": "stderr",
          "output_type": "stream",
          "text": [
            "Epoch 88: 100%|██████████| 634/634 [07:03<00:00,  1.50it/s, loss=13.7]\n"
          ]
        },
        {
          "name": "stdout",
          "output_type": "stream",
          "text": [
            "Epoch 88: Train Loss: 14.5209, Val Loss: 223.0670, Val MAE: 4.9173\n"
          ]
        },
        {
          "name": "stderr",
          "output_type": "stream",
          "text": [
            "Epoch 89: 100%|██████████| 634/634 [06:59<00:00,  1.51it/s, loss=10.3]\n"
          ]
        },
        {
          "name": "stdout",
          "output_type": "stream",
          "text": [
            "Epoch 89: Train Loss: 14.4591, Val Loss: 202.2283, Val MAE: 4.7513\n"
          ]
        },
        {
          "name": "stderr",
          "output_type": "stream",
          "text": [
            "Epoch 90: 100%|██████████| 634/634 [07:04<00:00,  1.49it/s, loss=18.7]\n"
          ]
        },
        {
          "name": "stdout",
          "output_type": "stream",
          "text": [
            "Epoch 90: Train Loss: 14.1426, Val Loss: 211.8976, Val MAE: 4.7574\n",
            "\n",
            "=== Final Evaluation ===\n",
            "Final predictions shape: torch.Size([2015, 123])\n",
            "Temperature range: [-9.78, 298.29]\n",
            "Training completed!\n"
          ]
        }
      ],
      "source": [
        "torch.manual_seed(42)\n",
        "np.random.seed(42)\n",
        "random.seed(42)\n",
        "\n",
        "# Device setup\n",
        "device = torch.device('cuda' if torch.cuda.is_available() else 'cpu')\n",
        "print(f\"Using device: {device}\")\n",
        "\n",
        "config = Config()\n",
        "\n",
        "# Create model\n",
        "model = BuildingTempPredictor(\n",
        "    temp_dim=config.temp_dim,\n",
        "    exog_dim=config.exog_dim,\n",
        "    action_dim=config.action_dim,\n",
        "    d_model=config.d_model,\n",
        "    nhead=config.nhead,\n",
        "    num_encoder_layers=config.num_encoder_layers,\n",
        "    num_decoder_layers=config.num_decoder_layers,\n",
        "    dropout=config.dropout\n",
        ").to(device)\n",
        "\n",
        "print(f\"Model parameters: {sum(p.numel() for p in model.parameters()):,}\")\n",
        "\n",
        "# Create datasets\n",
        "train_dataset = BuildingDataset(\n",
        "    train_temp,\n",
        "    train_exog,\n",
        "    train_actions,\n",
        "    min_history=288,\n",
        "    max_forecast=2015,\n",
        "    curriculum_stage=0\n",
        ")\n",
        "\n",
        "# Split dataset for validation\n",
        "train_size = int(0.8 * len(train_dataset))\n",
        "val_size = len(train_dataset) - train_size\n",
        "\n",
        "train_indices = list(range(train_size))\n",
        "val_indices = list(range(train_size, train_size + val_size))\n",
        "\n",
        "train_subset = torch.utils.data.Subset(train_dataset, train_indices)\n",
        "val_subset = torch.utils.data.Subset(train_dataset, val_indices)\n",
        "\n",
        "# Create data loaders\n",
        "train_loader = DataLoader(\n",
        "    train_subset,\n",
        "    batch_size=config.batch_size,\n",
        "    shuffle=True,\n",
        "    collate_fn=collate_fn,\n",
        "    num_workers=2,\n",
        "    pin_memory=True\n",
        ")\n",
        "\n",
        "val_loader = DataLoader(\n",
        "    val_subset,\n",
        "    batch_size=config.batch_size,\n",
        "    shuffle=False,\n",
        "    collate_fn=collate_fn,\n",
        "    num_workers=2,\n",
        "    pin_memory=True\n",
        ")\n",
        "\n",
        "# Optimizer and scheduler\n",
        "optimizer = torch.optim.AdamW(\n",
        "    model.parameters(),\n",
        "    lr=config.learning_rate,\n",
        "    weight_decay=config.weight_decay\n",
        ")\n",
        "\n",
        "scheduler = torch.optim.lr_scheduler.OneCycleLR(\n",
        "    optimizer,\n",
        "    max_lr=config.learning_rate,\n",
        "    total_steps=sum(stage['epochs'] for stage in config.curriculum_schedule) * len(train_loader),\n",
        "    pct_start=0.3,\n",
        "    anneal_strategy='cos'\n",
        ")\n",
        "\n",
        "# Training loop with curriculum learning\n",
        "best_val_loss = float('inf')\n",
        "epoch = 0\n",
        "\n",
        "for stage in config.curriculum_schedule:\n",
        "    print(f\"\\n=== Curriculum Stage {stage['stage']} ===\")\n",
        "    \n",
        "    # Update dataset curriculum stage\n",
        "    train_dataset.set_curriculum_stage(stage['stage'])\n",
        "    \n",
        "    for stage_epoch in range(stage['epochs']):\n",
        "        epoch += 1\n",
        "        \n",
        "        # Train\n",
        "        train_loss = train_epoch(model, train_loader, optimizer, device, epoch)\n",
        "        \n",
        "        # Validate\n",
        "        val_metrics = validate_model(model, val_loader, device)\n",
        "        \n",
        "        # Update scheduler\n",
        "        scheduler.step()\n",
        "        \n",
        "        print(f\"Epoch {epoch}: Train Loss: {train_loss:.4f}, \"\n",
        "                f\"Val Loss: {val_metrics['val_loss']:.4f}, \"\n",
        "                f\"Val MAE: {val_metrics['val_mae']:.4f}\")\n",
        "        \n",
        "        # Save best model\n",
        "        if val_metrics['val_loss'] < best_val_loss:\n",
        "            best_val_loss = val_metrics['val_loss']\n",
        "            torch.save(model.state_dict(), 'best_model.pth')\n",
        "            print(f\"New best model saved with val_loss: {best_val_loss:.4f}\")\n",
        "\n",
        "# Load best model for final evaluation\n",
        "model.load_state_dict(torch.load('best_model.pth'))\n",
        "\n",
        "# Final evaluation\n",
        "print(\"\\n=== Final Evaluation ===\")\n",
        "\n",
        "# Convert training data to tensors\n",
        "full_history_temps = torch.tensor(train_temp, dtype=torch.float32)\n",
        "full_history_exog = torch.tensor(train_exog, dtype=torch.float32)\n",
        "full_history_actions = torch.tensor(train_actions, dtype=torch.float32)\n",
        "\n",
        "initial_condition_tensor = torch.tensor(initial_condition, dtype=torch.float32)\n",
        "exog_future_tensor = torch.tensor(exogenous_observation_data[:2016], dtype=torch.float32)  # [2016, 1098]\n",
        "actions_future_tensor = torch.tensor(data_val['action_value_matrix'][:2016], dtype=torch.float32)  # [2016, 3]\n",
        "\n",
        "# Generate final predictions\n",
        "final_predictions = evaluate_final(\n",
        "    model,\n",
        "    full_history_temps,\n",
        "    full_history_exog,\n",
        "    full_history_actions,\n",
        "    initial_condition_tensor,\n",
        "    exog_future_tensor,\n",
        "    actions_future_tensor,\n",
        "    device\n",
        ")\n",
        "\n",
        "print(f\"Final predictions shape: {final_predictions.shape}\")\n",
        "print(f\"Temperature range: [{final_predictions.min():.2f}, {final_predictions.max():.2f}]\")\n",
        "\n",
        "# Save predictions\n",
        "torch.save(final_predictions, 'final_predictions.pth')\n",
        "np.save('final_predictions.npy', final_predictions.cpu().numpy())\n",
        "\n",
        "print(\"Training completed!\")\n"
      ]
    },
    {
      "cell_type": "code",
      "execution_count": 18,
      "metadata": {},
      "outputs": [
        {
          "name": "stdout",
          "output_type": "stream",
          "text": [
            "torch.Size([2016, 123])\n",
            "torch.Size([2016, 123])\n",
            "MAE: 1.6065784692764282\n"
          ]
        }
      ],
      "source": [
        "import torch\n",
        "import numpy as np\n",
        "\n",
        "initial_condition_tensor = torch.tensor(initial_condition, dtype=torch.float32).unsqueeze(0)\n",
        "final_predictions = np.load('transformer_forecast.npy')\n",
        "final_predictions = torch.cat((initial_condition_tensor, torch.tensor(final_predictions, dtype=torch.float32)))\n",
        "ground_truth_sequence = torch.tensor(temp_data[:2016], dtype=torch.float32)  # [2016, 123]\n",
        "\n",
        "print(final_predictions.shape)\n",
        "print(ground_truth_sequence.shape)\n",
        "\n",
        "\n",
        "def compute_mae(preds, targets):\n",
        "    return torch.mean(torch.abs(preds - targets))\n",
        "\n",
        "mae = compute_mae(final_predictions, ground_truth_sequence)\n",
        "print(f\"MAE: {mae}\")"
      ]
    },
    {
      "cell_type": "code",
      "execution_count": 26,
      "metadata": {},
      "outputs": [
        {
          "data": {
            "image/png": "[encoded data removed]",
            "text/plain": [
              "<Figure size 1200x500 with 1 Axes>"
            ]
          },
          "metadata": {},
          "output_type": "display_data"
        }
      ],
      "source": [
        "import torch\n",
        "import numpy as np\n",
        "import matplotlib.pyplot as plt\n",
        "import seaborn as sns\n",
        "import pandas as pd\n",
        "\n",
        "# Ensure reproducibility\n",
        "sns.set(style='whitegrid', context='paper', font_scale=1.4)\n",
        "\n",
        "# Simulated time axis: 5-minute intervals over one week (2016 points)\n",
        "time_index = pd.date_range(start='2022-07-01', periods=2016, freq='5T')  # Start date arbitrary\n",
        "\n",
        "# Convert data to numpy if it's PyTorch tensor\n",
        "if isinstance(ground_truth_sequence, torch.Tensor):\n",
        "    ground_truth_sequence = ground_truth_sequence.numpy()\n",
        "if isinstance(final_predictions, torch.Tensor):\n",
        "    final_predictions = final_predictions.numpy()\n",
        "\n",
        "# Take mean over axis=1 for each time step\n",
        "gt_mean = ground_truth_sequence.mean(axis=1)\n",
        "pred_mean = final_predictions.mean(axis=1)\n",
        "\n",
        "# Create a DataFrame for seaborn\n",
        "df = pd.DataFrame({\n",
        "    'Time': time_index,\n",
        "    'Ground Truth': gt_mean,\n",
        "    'Transformer Predictions': pred_mean\n",
        "})\n",
        "\n",
        "# Melt for seaborn\n",
        "df_melted = df.melt(id_vars='Time', var_name='Type', value_name='Value')\n",
        "\n",
        "# Plot\n",
        "plt.figure(figsize=(12, 5))\n",
        "sns.lineplot(data=df_melted, x='Time', y='Value', hue='Type')\n",
        "plt.title('Average Final Predictions vs Ground Truth July 1-7, 2022', fontsize=16)\n",
        "plt.xlabel('Time')\n",
        "plt.ylabel('Mean Temperature Sensor Value')\n",
        "plt.xticks(rotation=45)\n",
        "plt.tight_layout()\n",
        "plt.legend(title='')\n",
        "plt.grid(True, linestyle='--', alpha=0.5)\n",
        "plt.savefig('transformer_forecast.png', dpi=300, bbox_inches='tight')\n",
        "plt.show()"
      ]
    },
    {
      "cell_type": "code",
      "execution_count": null,
      "metadata": {},
      "outputs": [],
      "source": []
    }
  ],
  "metadata": {
    "accelerator": "GPU",
    "colab": {
      "gpuType": "T4",
      "provenance": []
    },
    "kernelspec": {
      "display_name": "diffaug",
      "language": "python",
      "name": "python3"
    },
    "language_info": {
      "codemirror_mode": {
        "name": "ipython",
        "version": 3
      },
      "file_extension": ".py",
      "mimetype": "text/x-python",
      "name": "python",
      "nbconvert_exporter": "python",
      "pygments_lexer": "ipython3",
      "version": "3.10.15"
    }
  },
  "nbformat": 4,
  "nbformat_minor": 0
}
